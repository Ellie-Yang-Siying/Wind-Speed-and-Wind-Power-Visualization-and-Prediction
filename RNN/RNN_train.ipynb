{
 "cells": [
  {
   "attachments": {},
   "cell_type": "markdown",
   "metadata": {},
   "source": [
    "**RNN**\n",
    "\n",
    "**数据集：**\n",
    "\n",
    "采用前13天（13days/30s）没有空缺数据的数据集进行训练和检验\n",
    "\n",
    "**预测目标：**\n",
    "\n",
    "超短期预测（4h/15min）的风功率\n",
    "\n",
    "**可调的参数：**\n",
    "- 使用前多久的数据进行预测:400\n",
    "- 数据集的特征: speed power\n",
    "- 使用多少天的数据进行训练: 6 days\n",
    "- LSTM units 数目: 100\n",
    "- batch size: 72\n",
    "- epoch: 100"
   ]
  },
  {
   "cell_type": "code",
   "execution_count": 8,
   "metadata": {},
   "outputs": [],
   "source": [
    "n = 1\n",
    "# 使用前400个点的 speed & power 预测接下来 4h(4h/15min) 的power\n",
    "n_back = 400\n",
    "n_out = 16\n",
    "n_pre = n_out*15*2\n",
    "n_feature = 2\n",
    "# 使用前6天的数据进行训练\n",
    "train_len = 6\n",
    "# 神经网络参数\n",
    "units = 100\n",
    "rounds = 10\n",
    "size = 72"
   ]
  },
  {
   "attachments": {},
   "cell_type": "markdown",
   "metadata": {},
   "source": [
    "# Preperation"
   ]
  },
  {
   "cell_type": "code",
   "execution_count": 2,
   "metadata": {},
   "outputs": [
    {
     "name": "stderr",
     "output_type": "stream",
     "text": [
      "2023-01-09 20:28:12.010933: I tensorflow/core/platform/cpu_feature_guard.cc:193] This TensorFlow binary is optimized with oneAPI Deep Neural Network Library (oneDNN) to use the following CPU instructions in performance-critical operations:  AVX2 FMA\n",
      "To enable them in other operations, rebuild TensorFlow with the appropriate compiler flags.\n",
      "2023-01-09 20:28:12.414623: W tensorflow/compiler/xla/stream_executor/platform/default/dso_loader.cc:64] Could not load dynamic library 'libcudart.so.11.0'; dlerror: libcudart.so.11.0: cannot open shared object file: No such file or directory\n",
      "2023-01-09 20:28:12.414673: I tensorflow/compiler/xla/stream_executor/cuda/cudart_stub.cc:29] Ignore above cudart dlerror if you do not have a GPU set up on your machine.\n",
      "2023-01-09 20:28:14.328884: W tensorflow/compiler/xla/stream_executor/platform/default/dso_loader.cc:64] Could not load dynamic library 'libnvinfer.so.7'; dlerror: libnvinfer.so.7: cannot open shared object file: No such file or directory\n",
      "2023-01-09 20:28:14.329263: W tensorflow/compiler/xla/stream_executor/platform/default/dso_loader.cc:64] Could not load dynamic library 'libnvinfer_plugin.so.7'; dlerror: libnvinfer_plugin.so.7: cannot open shared object file: No such file or directory\n",
      "2023-01-09 20:28:14.329293: W tensorflow/compiler/tf2tensorrt/utils/py_utils.cc:38] TF-TRT Warning: Cannot dlopen some TensorRT libraries. If you would like to use Nvidia GPU with TensorRT, please make sure the missing libraries mentioned above are installed properly.\n"
     ]
    }
   ],
   "source": [
    "from math import sqrt\n",
    "import numpy as np\n",
    "import pandas as pd\n",
    "\n",
    "from numpy import concatenate\n",
    "from matplotlib import pyplot as plt\n",
    "from pandas import DataFrame\n",
    "from pandas import concat\n",
    "from sklearn.preprocessing import MinMaxScaler\n",
    "from sklearn.preprocessing import LabelEncoder\n",
    "from sklearn.metrics import mean_squared_error\n",
    "from keras.models import Sequential\n",
    "from keras.layers import Dense\n",
    "from keras.layers import SimpleRNN"
   ]
  },
  {
   "cell_type": "code",
   "execution_count": 3,
   "metadata": {},
   "outputs": [],
   "source": [
    "dataset = pd.read_csv('../wind_preprocessed.csv', header=0, index_col=0).query('day<14')"
   ]
  },
  {
   "cell_type": "code",
   "execution_count": 4,
   "metadata": {},
   "outputs": [
    {
     "name": "stdout",
     "output_type": "stream",
     "text": [
      "                       speed    power\n",
      "date                                 \n",
      "2015-10-01 00:00:00  0.39627  0.38065\n",
      "2015-10-01 00:00:30  0.39592  0.36943\n",
      "2015-10-01 00:01:00  0.39538  0.38529\n",
      "2015-10-01 00:01:30  0.39579  0.38892\n",
      "2015-10-01 00:02:00  0.39627  0.41220\n"
     ]
    }
   ],
   "source": [
    "data = dataset[['speed_moveavg', 'power_moveavg']].rename(columns={'power_moveavg':'power', 'speed_moveavg':'speed'})\n",
    "print(data.head())"
   ]
  },
  {
   "attachments": {},
   "cell_type": "markdown",
   "metadata": {},
   "source": [
    "# Training"
   ]
  },
  {
   "cell_type": "code",
   "execution_count": 5,
   "metadata": {},
   "outputs": [],
   "source": [
    "values = data.values\n",
    "values = values.astype('float32')\n",
    "\n",
    "def series_to_supervised(data, n_in, n_out, colname, dropnan=True):\n",
    "    n_vars = colname\n",
    "    # n_vars = 1 if type(data) is list else data.shape[1]\n",
    "    df = DataFrame(data)\n",
    "    cols, names = list(), list()\n",
    "    # input sequence (t-n, ... t-1)\n",
    "    for i in range(n_in, 0, -1):\n",
    "        cols.append(df.shift(i))\n",
    "        names += [('%s(t-%d)' % (j, i)) for j in n_vars]\n",
    "    # forecast sequence (t, t+1, ... t+n)\n",
    "    for i in range(0, n_out, 15*2):\n",
    "        cols.append(df.shift(-i))\n",
    "        if i == 0:\n",
    "            names += [('%s(t)' % (j)) for j in n_vars]\n",
    "        else:\n",
    "            names += [('%s(t+%d)' % (j, i)) for j in n_vars]\n",
    "    # put it all together\n",
    "    agg = concat(cols, axis=1)\n",
    "    agg.columns = names\n",
    "    # drop rows with NaN values\n",
    "    if dropnan:\n",
    "        agg.dropna(inplace=True)\n",
    "    return agg\n",
    "\n",
    "# 构建成监督学习问题\n",
    "reframed = series_to_supervised(values, n_back, n_pre, ['speed', 'power'])\n",
    "# 丢弃我们不想预测的列\n",
    "for i in range(0, n_pre, 15*2):\n",
    "    if i == 0:\n",
    "        colname = 'speed(t)'\n",
    "    else:\n",
    "        colname = f'speed(t+{i})'\n",
    "    reframed.drop(colname, axis=1, inplace=True)\n",
    "# print(reframed.head(5))"
   ]
  },
  {
   "cell_type": "code",
   "execution_count": 6,
   "metadata": {},
   "outputs": [
    {
     "name": "stdout",
     "output_type": "stream",
     "text": [
      "(17280, 800) (17280, 16)\n",
      "(19310, 800) (19310, 16)\n",
      "(17280, 400, 2) (17280, 16) (19310, 400, 2) (19310, 16)\n"
     ]
    }
   ],
   "source": [
    "# 分割为训练集和测试集\n",
    "values = reframed.values\n",
    "n_train_hours = train_len*24*60*2\n",
    "train = values[:n_train_hours, :]\n",
    "test = values[n_train_hours:, :]\n",
    "# 分为输入输出\n",
    "n_obs = n_back * n_feature\n",
    "train_X, train_y = train[:, :n_obs], train[:, -n_out:]\n",
    "test_X, test_y = test[:, :n_obs], test[:, -n_out:]\n",
    "print(train_X.shape, train_y.shape)\n",
    "print(test_X.shape, test_y.shape)\n",
    "# 重塑成3D格式 [samples, timesteps, features]\n",
    "train_X = train_X.reshape((train_X.shape[0], n_back, n_feature))\n",
    "test_X = test_X.reshape((test_X.shape[0], n_back, n_feature))\n",
    "print(train_X.shape, train_y.shape, test_X.shape, test_y.shape)"
   ]
  },
  {
   "cell_type": "code",
   "execution_count": 9,
   "metadata": {},
   "outputs": [
    {
     "name": "stdout",
     "output_type": "stream",
     "text": [
      "Epoch 1/10\n",
      "240/240 [==============================] - 99s 406ms/step - loss: 0.0443 - val_loss: 0.2499\n",
      "Epoch 2/10\n",
      "240/240 [==============================] - 90s 377ms/step - loss: 0.0670 - val_loss: 0.2470\n",
      "Epoch 3/10\n",
      "240/240 [==============================] - 79s 331ms/step - loss: 0.0553 - val_loss: 0.2898\n",
      "Epoch 4/10\n",
      "240/240 [==============================] - 84s 349ms/step - loss: 0.0549 - val_loss: 0.3222\n",
      "Epoch 5/10\n",
      "240/240 [==============================] - 81s 338ms/step - loss: 0.0544 - val_loss: 0.3454\n",
      "Epoch 6/10\n",
      "240/240 [==============================] - 78s 328ms/step - loss: 0.0535 - val_loss: 0.3620\n",
      "Epoch 7/10\n",
      "240/240 [==============================] - 95s 397ms/step - loss: 0.0528 - val_loss: 0.3695\n",
      "Epoch 8/10\n",
      "240/240 [==============================] - 111s 464ms/step - loss: 0.0513 - val_loss: 0.3690\n",
      "Epoch 9/10\n",
      "240/240 [==============================] - 85s 354ms/step - loss: 0.0494 - val_loss: 0.3759\n",
      "Epoch 10/10\n",
      "240/240 [==============================] - 99s 412ms/step - loss: 0.0470 - val_loss: 0.3375\n"
     ]
    }
   ],
   "source": [
    "# 设计网络\n",
    "model = Sequential()\n",
    "model.add(SimpleRNN(units, input_shape=(train_X.shape[1], train_X.shape[2])))\n",
    "model.add(Dense(n_out))\n",
    "\n",
    "# 拟合神经网络模型\n",
    "model.compile(loss='mse', optimizer='adam')\n",
    "history = model.fit(train_X, train_y, epochs=rounds, batch_size=size, validation_data=(test_X, test_y), verbose=1, shuffle=False)"
   ]
  },
  {
   "cell_type": "code",
   "execution_count": 10,
   "metadata": {},
   "outputs": [
    {
     "name": "stdout",
     "output_type": "stream",
     "text": [
      "Model: \"sequential_1\"\n",
      "_________________________________________________________________\n",
      " Layer (type)                Output Shape              Param #   \n",
      "=================================================================\n",
      " simple_rnn_1 (SimpleRNN)    (None, 100)               10300     \n",
      "                                                                 \n",
      " dense_1 (Dense)             (None, 16)                1616      \n",
      "                                                                 \n",
      "=================================================================\n",
      "Total params: 11,916\n",
      "Trainable params: 11,916\n",
      "Non-trainable params: 0\n",
      "_________________________________________________________________\n"
     ]
    }
   ],
   "source": [
    "model.save_weights(f'rnn_{n}.h5')\n",
    "model.summary()"
   ]
  },
  {
   "cell_type": "code",
   "execution_count": 12,
   "metadata": {},
   "outputs": [
    {
     "data": {
      "image/png": "[encoded data removed]",
      "text/plain": [
       "<Figure size 640x480 with 1 Axes>"
      ]
     },
     "metadata": {},
     "output_type": "display_data"
    }
   ],
   "source": [
    "# 绘制历史数据\n",
    "plt.plot(history.history['loss'], label='train')\n",
    "plt.plot(history.history['val_loss'], label='test')\n",
    "plt.title(f'Epochs={rounds}, Batch_size={size}, Units={units}, Ahead=400')\n",
    "plt.savefig(f'{n}.png')\n",
    "plt.legend()\n",
    "plt.show()"
   ]
  }
 ],
 "metadata": {
  "kernelspec": {
   "display_name": "bigdata",
   "language": "python",
   "name": "python3"
  },
  "language_info": {
   "codemirror_mode": {
    "name": "ipython",
    "version": 3
   },
   "file_extension": ".py",
   "mimetype": "text/x-python",
   "name": "python",
   "nbconvert_exporter": "python",
   "pygments_lexer": "ipython3",
   "version": "3.8.15 (default, Nov 24 2022, 15:19:38) \n[GCC 11.2.0]"
  },
  "orig_nbformat": 4,
  "vscode": {
   "interpreter": {
    "hash": "e5770e3b25a98de75bce43f2f8d39d9898bdd15f26b6dfc4856e2120567bac70"
   }
  }
 },
 "nbformat": 4,
 "nbformat_minor": 2
}
