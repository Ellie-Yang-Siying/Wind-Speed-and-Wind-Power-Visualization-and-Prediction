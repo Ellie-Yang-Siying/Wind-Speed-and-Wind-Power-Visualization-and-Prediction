{
 "cells": [
  {
   "attachments": {},
   "cell_type": "markdown",
   "metadata": {},
   "source": [
    "**数据集：**\n",
    "- Day 1-6: Train\n",
    "- Day 7-10: Validation\n",
    "- Day 11-13: Test\n",
    "\n",
    "**预测目标：**\n",
    "超短期预测（4h/15min）的风功率"
   ]
  },
  {
   "cell_type": "code",
   "execution_count": 2,
   "metadata": {},
   "outputs": [
    {
     "data": {
      "text/plain": [
       "array([20, 30, 40, 50])"
      ]
     },
     "execution_count": 2,
     "metadata": {},
     "output_type": "execute_result"
    }
   ],
   "source": [
    "# 数据集特征\n",
    "n_back = 200\n",
    "n_out = 16\n",
    "n_pre = n_out*15*2\n",
    "n_feature = 2\n",
    "\n",
    "train_day = 6\n",
    "validation_day = 4\n",
    "test_day = 3\n",
    "\n",
    "# 神经网络参数\n",
    "import numpy as np\n",
    "units = np.arange(20, 60, 10)\n",
    "batch_size = 32\n",
    "epochs = 50\n",
    "units"
   ]
  },
  {
   "attachments": {},
   "cell_type": "markdown",
   "metadata": {},
   "source": [
    "# Preperation"
   ]
  },
  {
   "cell_type": "code",
   "execution_count": 3,
   "metadata": {},
   "outputs": [
    {
     "name": "stderr",
     "output_type": "stream",
     "text": [
      "2023-01-12 10:28:43.322692: I tensorflow/core/platform/cpu_feature_guard.cc:193] This TensorFlow binary is optimized with oneAPI Deep Neural Network Library (oneDNN) to use the following CPU instructions in performance-critical operations:  AVX2 FMA\n",
      "To enable them in other operations, rebuild TensorFlow with the appropriate compiler flags.\n",
      "2023-01-12 10:28:43.848106: W tensorflow/compiler/xla/stream_executor/platform/default/dso_loader.cc:64] Could not load dynamic library 'libcudart.so.11.0'; dlerror: libcudart.so.11.0: cannot open shared object file: No such file or directory\n",
      "2023-01-12 10:28:43.848208: I tensorflow/compiler/xla/stream_executor/cuda/cudart_stub.cc:29] Ignore above cudart dlerror if you do not have a GPU set up on your machine.\n",
      "2023-01-12 10:28:46.383910: W tensorflow/compiler/xla/stream_executor/platform/default/dso_loader.cc:64] Could not load dynamic library 'libnvinfer.so.7'; dlerror: libnvinfer.so.7: cannot open shared object file: No such file or directory\n",
      "2023-01-12 10:28:46.384385: W tensorflow/compiler/xla/stream_executor/platform/default/dso_loader.cc:64] Could not load dynamic library 'libnvinfer_plugin.so.7'; dlerror: libnvinfer_plugin.so.7: cannot open shared object file: No such file or directory\n",
      "2023-01-12 10:28:46.384438: W tensorflow/compiler/tf2tensorrt/utils/py_utils.cc:38] TF-TRT Warning: Cannot dlopen some TensorRT libraries. If you would like to use Nvidia GPU with TensorRT, please make sure the missing libraries mentioned above are installed properly.\n"
     ]
    }
   ],
   "source": [
    "from math import sqrt\n",
    "import numpy as np\n",
    "import pandas as pd\n",
    "import pickle\n",
    "\n",
    "from numpy import concatenate\n",
    "from matplotlib import pyplot as plt\n",
    "from pandas import DataFrame\n",
    "from pandas import concat\n",
    "from sklearn.preprocessing import MinMaxScaler\n",
    "from sklearn.preprocessing import LabelEncoder\n",
    "from sklearn.metrics import mean_squared_error\n",
    "from keras.models import Sequential\n",
    "from keras.layers import Dense\n",
    "from keras.layers import GRU"
   ]
  },
  {
   "cell_type": "code",
   "execution_count": 4,
   "metadata": {},
   "outputs": [],
   "source": [
    "dataset = pd.read_csv('../../wind_preprocessed.csv', header=0, index_col=0).query('day<14')"
   ]
  },
  {
   "cell_type": "code",
   "execution_count": 5,
   "metadata": {},
   "outputs": [
    {
     "name": "stdout",
     "output_type": "stream",
     "text": [
      "                       speed    power\n",
      "date                                 \n",
      "2015-10-01 00:00:00  0.39627  0.38065\n",
      "2015-10-01 00:00:30  0.39592  0.36943\n",
      "2015-10-01 00:01:00  0.39538  0.38529\n",
      "2015-10-01 00:01:30  0.39579  0.38892\n",
      "2015-10-01 00:02:00  0.39627  0.41220\n"
     ]
    }
   ],
   "source": [
    "data = dataset[['speed_moveavg', 'power_moveavg']].rename(columns={'power_moveavg':'power', 'speed_moveavg':'speed'})\n",
    "print(data.head())"
   ]
  },
  {
   "cell_type": "code",
   "execution_count": 6,
   "metadata": {},
   "outputs": [],
   "source": [
    "values = data.values\n",
    "values = values.astype('float32')\n",
    "\n",
    "def series_to_supervised(data, n_in, n_out, colname, dropnan=True):\n",
    "    n_vars = colname\n",
    "    # n_vars = 1 if type(data) is list else data.shape[1]\n",
    "    df = DataFrame(data)\n",
    "    cols, names = list(), list()\n",
    "    # input sequence (t-n, ... t-1)\n",
    "    for i in range(n_in, 0, -1):\n",
    "        cols.append(df.shift(i))\n",
    "        names += [('%s(t-%d)' % (j, i)) for j in n_vars]\n",
    "    # forecast sequence (t, t+1, ... t+n)\n",
    "    for i in range(0, n_out, 15*2):\n",
    "        cols.append(df.shift(-i))\n",
    "        if i == 0:\n",
    "            names += [('%s(t)' % (j)) for j in n_vars]\n",
    "        else:\n",
    "            names += [('%s(t+%d)' % (j, i)) for j in n_vars]\n",
    "    # put it all together\n",
    "    agg = concat(cols, axis=1)\n",
    "    agg.columns = names\n",
    "    # drop rows with NaN values\n",
    "    if dropnan:\n",
    "        agg.dropna(inplace=True)\n",
    "    return agg\n",
    "\n",
    "# 构建成监督学习问题\n",
    "reframed = series_to_supervised(values, n_back, n_pre, ['speed', 'power'])\n",
    "# 丢弃我们不想预测的列\n",
    "for i in range(0, n_pre, 15*2):\n",
    "    if i == 0:\n",
    "        colname = 'speed(t)'\n",
    "    else:\n",
    "        colname = f'speed(t+{i})'\n",
    "    reframed.drop(colname, axis=1, inplace=True)\n",
    "# print(reframed.head(5))"
   ]
  },
  {
   "cell_type": "code",
   "execution_count": 7,
   "metadata": {},
   "outputs": [
    {
     "name": "stdout",
     "output_type": "stream",
     "text": [
      "(17280, 200, 2) (17280, 16)\n",
      "(11520, 200, 2) (11520, 16)\n",
      "(8640, 200, 2) (8640, 16)\n"
     ]
    }
   ],
   "source": [
    "# 分割为训练集和测试集\n",
    "values = reframed.values\n",
    "n_train = train_day*24*60*2\n",
    "n_validation = validation_day*24*60*2\n",
    "n_test = test_day*24*60*2\n",
    "train = values[:n_train, :]\n",
    "validation = values[n_train:n_train+n_validation, :]\n",
    "test = values[-n_test:, :]\n",
    "# 分为输入输出\n",
    "n_obs = n_back * n_feature\n",
    "train_X, train_y = train[:, :n_obs], train[:, -n_out:]\n",
    "validation_X, validation_y = validation[:, :n_obs], validation[:, -n_out:]\n",
    "test_X, test_y = test[:, :n_obs], test[:, -n_out:]\n",
    "# 重塑成3D格式 [samples, timesteps, features]\n",
    "train_X = train_X.reshape((train_X.shape[0], n_back, n_feature))\n",
    "validation_X = validation_X.reshape((validation_X.shape[0], n_back, n_feature))\n",
    "test_X = test_X.reshape((test_X.shape[0], n_back, n_feature))\n",
    "print(train_X.shape, train_y.shape)\n",
    "print(validation_X.shape, validation_y.shape)\n",
    "print(test_X.shape, test_y.shape)"
   ]
  },
  {
   "attachments": {},
   "cell_type": "markdown",
   "metadata": {},
   "source": [
    "# Training"
   ]
  },
  {
   "cell_type": "code",
   "execution_count": 8,
   "metadata": {},
   "outputs": [
    {
     "name": "stdout",
     "output_type": "stream",
     "text": [
      "---Start Unit 40---\n"
     ]
    },
    {
     "name": "stderr",
     "output_type": "stream",
     "text": [
      "2023-01-12 10:28:54.587635: W tensorflow/compiler/xla/stream_executor/platform/default/dso_loader.cc:64] Could not load dynamic library 'libcuda.so.1'; dlerror: libcuda.so.1: cannot open shared object file: No such file or directory\n",
      "2023-01-12 10:28:54.587806: W tensorflow/compiler/xla/stream_executor/cuda/cuda_driver.cc:265] failed call to cuInit: UNKNOWN ERROR (303)\n",
      "2023-01-12 10:28:54.587882: I tensorflow/compiler/xla/stream_executor/cuda/cuda_diagnostics.cc:156] kernel driver does not appear to be running on this host (LAPTOP-VC833VJB): /proc/driver/nvidia/version does not exist\n",
      "2023-01-12 10:28:54.588852: I tensorflow/core/platform/cpu_feature_guard.cc:193] This TensorFlow binary is optimized with oneAPI Deep Neural Network Library (oneDNN) to use the following CPU instructions in performance-critical operations:  AVX2 FMA\n",
      "To enable them in other operations, rebuild TensorFlow with the appropriate compiler flags.\n"
     ]
    },
    {
     "name": "stdout",
     "output_type": "stream",
     "text": [
      "Epoch 1/50\n",
      "540/540 [==============================] - 164s 290ms/step - loss: 0.0255 - val_loss: 0.0277\n",
      "Epoch 2/50\n",
      "540/540 [==============================] - 135s 251ms/step - loss: 0.0298 - val_loss: 0.0262\n",
      "Epoch 3/50\n",
      "540/540 [==============================] - 146s 271ms/step - loss: 0.0318 - val_loss: 0.0224\n",
      "Epoch 4/50\n",
      "540/540 [==============================] - 134s 248ms/step - loss: 0.0306 - val_loss: 0.0216\n",
      "Epoch 5/50\n",
      "540/540 [==============================] - 149s 276ms/step - loss: 0.0303 - val_loss: 0.0210\n",
      "Epoch 6/50\n",
      "540/540 [==============================] - 148s 273ms/step - loss: 0.0296 - val_loss: 0.0200\n",
      "Epoch 7/50\n",
      "540/540 [==============================] - 164s 304ms/step - loss: 0.0285 - val_loss: 0.0189\n",
      "Epoch 8/50\n",
      "540/540 [==============================] - 146s 271ms/step - loss: 0.0279 - val_loss: 0.0183\n",
      "Epoch 9/50\n",
      "540/540 [==============================] - 162s 301ms/step - loss: 0.0274 - val_loss: 0.0175\n",
      "Epoch 10/50\n",
      "540/540 [==============================] - 150s 277ms/step - loss: 0.0268 - val_loss: 0.0171\n",
      "Epoch 11/50\n",
      "540/540 [==============================] - 145s 269ms/step - loss: 0.0265 - val_loss: 0.0170\n",
      "Epoch 12/50\n",
      "540/540 [==============================] - 148s 274ms/step - loss: 0.0259 - val_loss: 0.0161\n",
      "Epoch 13/50\n",
      "540/540 [==============================] - 141s 262ms/step - loss: 0.0258 - val_loss: 0.0155\n",
      "Epoch 14/50\n",
      "540/540 [==============================] - 145s 268ms/step - loss: 0.0256 - val_loss: 0.0148\n",
      "Epoch 15/50\n",
      "540/540 [==============================] - 146s 271ms/step - loss: 0.0252 - val_loss: 0.0149\n",
      "Epoch 16/50\n",
      "540/540 [==============================] - 139s 257ms/step - loss: 0.0252 - val_loss: 0.0144\n",
      "Epoch 17/50\n",
      "540/540 [==============================] - 122s 225ms/step - loss: 0.0247 - val_loss: 0.0141\n",
      "Epoch 18/50\n",
      "540/540 [==============================] - 109s 201ms/step - loss: 0.0246 - val_loss: 0.0134\n",
      "Epoch 19/50\n",
      "540/540 [==============================] - 110s 203ms/step - loss: 0.0243 - val_loss: 0.0133\n",
      "Epoch 20/50\n",
      "540/540 [==============================] - 109s 201ms/step - loss: 0.0240 - val_loss: 0.0126\n",
      "Epoch 21/50\n",
      "540/540 [==============================] - 119s 221ms/step - loss: 0.0238 - val_loss: 0.0125\n",
      "Epoch 22/50\n",
      "540/540 [==============================] - 132s 244ms/step - loss: 0.0237 - val_loss: 0.0126\n",
      "Epoch 23/50\n",
      "540/540 [==============================] - 129s 239ms/step - loss: 0.0235 - val_loss: 0.0126\n",
      "Epoch 24/50\n",
      "540/540 [==============================] - 130s 241ms/step - loss: 0.0234 - val_loss: 0.0128\n",
      "Epoch 25/50\n",
      "540/540 [==============================] - 132s 245ms/step - loss: 0.0232 - val_loss: 0.0132\n",
      "Epoch 26/50\n",
      "540/540 [==============================] - 131s 243ms/step - loss: 0.0230 - val_loss: 0.0131\n",
      "Epoch 27/50\n",
      "540/540 [==============================] - 132s 245ms/step - loss: 0.0230 - val_loss: 0.0127\n",
      "Epoch 28/50\n",
      "540/540 [==============================] - 133s 246ms/step - loss: 0.0230 - val_loss: 0.0123\n",
      "Epoch 29/50\n",
      "540/540 [==============================] - 131s 242ms/step - loss: 0.0230 - val_loss: 0.0123\n",
      "Epoch 30/50\n",
      "540/540 [==============================] - 139s 258ms/step - loss: 0.0229 - val_loss: 0.0122\n",
      "Epoch 31/50\n",
      "540/540 [==============================] - 135s 249ms/step - loss: 0.0228 - val_loss: 0.0124\n",
      "Epoch 32/50\n",
      "540/540 [==============================] - 132s 244ms/step - loss: 0.0227 - val_loss: 0.0124\n",
      "Epoch 33/50\n",
      "540/540 [==============================] - 133s 247ms/step - loss: 0.0226 - val_loss: 0.0121\n",
      "Epoch 34/50\n",
      "540/540 [==============================] - 131s 243ms/step - loss: 0.0225 - val_loss: 0.0121\n",
      "Epoch 35/50\n",
      "540/540 [==============================] - 150s 278ms/step - loss: 0.0225 - val_loss: 0.0121\n",
      "Epoch 36/50\n",
      "540/540 [==============================] - 162s 299ms/step - loss: 0.0225 - val_loss: 0.0120\n",
      "Epoch 37/50\n",
      "540/540 [==============================] - 138s 255ms/step - loss: 0.0225 - val_loss: 0.0120\n",
      "Epoch 38/50\n",
      "540/540 [==============================] - 131s 243ms/step - loss: 0.0223 - val_loss: 0.0120\n",
      "Epoch 39/50\n",
      "540/540 [==============================] - 135s 250ms/step - loss: 0.0222 - val_loss: 0.0118\n",
      "Epoch 40/50\n",
      "540/540 [==============================] - 131s 244ms/step - loss: 0.0222 - val_loss: 0.0118\n",
      "Epoch 41/50\n",
      "540/540 [==============================] - 132s 245ms/step - loss: 0.0222 - val_loss: 0.0116\n",
      "Epoch 42/50\n",
      "540/540 [==============================] - 131s 242ms/step - loss: 0.0223 - val_loss: 0.0118\n",
      "Epoch 43/50\n",
      "540/540 [==============================] - 131s 242ms/step - loss: 0.0221 - val_loss: 0.0117\n",
      "Epoch 44/50\n",
      "540/540 [==============================] - 133s 246ms/step - loss: 0.0221 - val_loss: 0.0117\n",
      "Epoch 45/50\n",
      "540/540 [==============================] - 131s 243ms/step - loss: 0.0221 - val_loss: 0.0116\n",
      "Epoch 46/50\n",
      "540/540 [==============================] - 132s 244ms/step - loss: 0.0220 - val_loss: 0.0114\n",
      "Epoch 47/50\n",
      "540/540 [==============================] - 131s 243ms/step - loss: 0.0220 - val_loss: 0.0116\n",
      "Epoch 48/50\n",
      "540/540 [==============================] - 135s 249ms/step - loss: 0.0219 - val_loss: 0.0115\n",
      "Epoch 49/50\n",
      "540/540 [==============================] - 134s 247ms/step - loss: 0.0218 - val_loss: 0.0116\n",
      "Epoch 50/50\n",
      "540/540 [==============================] - 134s 248ms/step - loss: 0.0218 - val_loss: 0.0116\n"
     ]
    },
    {
     "data": {
      "image/png": "[encoded data removed]",
      "text/plain": [
       "<Figure size 640x480 with 1 Axes>"
      ]
     },
     "metadata": {},
     "output_type": "display_data"
    },
    {
     "name": "stdout",
     "output_type": "stream",
     "text": [
      "---Finish Unit 40---\n"
     ]
    }
   ],
   "source": [
    "def train(u):\n",
    "    print(f'---Start Unit {u}---')\n",
    "    # 设计网络\n",
    "    model = Sequential()\n",
    "    model.add(GRU(u, input_shape=(train_X.shape[1], train_X.shape[2])))\n",
    "    model.add(Dense(n_out))\n",
    "\n",
    "    # 拟合神经网络模型\n",
    "    model.compile(loss='mse', optimizer='adam')\n",
    "    history = model.fit(train_X, train_y, epochs=epochs, batch_size=batch_size, validation_data=(validation_X, validation_y), verbose=1, shuffle=False)\n",
    "    \n",
    "    # 保存模型及训练历史\n",
    "    model.save_weights(f'{u}.h5')\n",
    "    with open(f'lstm_unit{u}_hist.pickle', 'wb') as file_pi:\n",
    "        pickle.dump(history.history, file_pi)\n",
    "    \n",
    "    # 画图\n",
    "    fig,ax = plt.subplots()\n",
    "    ax.plot(history.history['loss'], label='train')\n",
    "    ax.plot(history.history['val_loss'], label='test')\n",
    "    plt.title(f'units_{u}')\n",
    "    plt.show()\n",
    "\n",
    "    print(f'---Finish Unit {u}---')\n",
    "\n",
    "train(40)\n",
    "# from multiprocessing.pool import ThreadPool\n",
    "# pool = ThreadPool(len(units))  # 创建一个线程池\n",
    "# pool.map(train, units)  # 往线程池中填线程\n",
    "# pool.close()  # 关闭线程池，不再接受线程\n",
    "# pool.join()  # 等待线程池中线程全部执行完"
   ]
  },
  {
   "cell_type": "code",
   "execution_count": 9,
   "metadata": {},
   "outputs": [
    {
     "name": "stdout",
     "output_type": "stream",
     "text": [
      "---Start Unit 50---\n",
      "Epoch 1/50\n",
      "540/540 [==============================] - 138s 249ms/step - loss: 0.0229 - val_loss: 0.0342\n",
      "Epoch 2/50\n",
      "540/540 [==============================] - 134s 248ms/step - loss: 0.0306 - val_loss: 0.0261\n",
      "Epoch 3/50\n",
      "540/540 [==============================] - 133s 247ms/step - loss: 0.0298 - val_loss: 0.0225\n",
      "Epoch 4/50\n",
      "540/540 [==============================] - 132s 245ms/step - loss: 0.0298 - val_loss: 0.0216\n",
      "Epoch 5/50\n",
      "540/540 [==============================] - 133s 247ms/step - loss: 0.0297 - val_loss: 0.0208\n",
      "Epoch 6/50\n",
      "540/540 [==============================] - 132s 245ms/step - loss: 0.0290 - val_loss: 0.0204\n",
      "Epoch 7/50\n",
      "540/540 [==============================] - 134s 248ms/step - loss: 0.0286 - val_loss: 0.0190\n",
      "Epoch 8/50\n",
      "540/540 [==============================] - 134s 249ms/step - loss: 0.0280 - val_loss: 0.0187\n",
      "Epoch 9/50\n",
      "540/540 [==============================] - 141s 261ms/step - loss: 0.0274 - val_loss: 0.0176\n",
      "Epoch 10/50\n",
      "540/540 [==============================] - 96s 178ms/step - loss: 0.0264 - val_loss: 0.0165\n",
      "Epoch 11/50\n",
      "540/540 [==============================] - 75s 138ms/step - loss: 0.0260 - val_loss: 0.0162\n",
      "Epoch 12/50\n",
      "540/540 [==============================] - 75s 138ms/step - loss: 0.0258 - val_loss: 0.0156\n",
      "Epoch 13/50\n",
      "540/540 [==============================] - 78s 145ms/step - loss: 0.0251 - val_loss: 0.0150\n",
      "Epoch 14/50\n",
      "540/540 [==============================] - 92s 170ms/step - loss: 0.0250 - val_loss: 0.0147\n",
      "Epoch 15/50\n",
      "540/540 [==============================] - 80s 148ms/step - loss: 0.0246 - val_loss: 0.0144\n",
      "Epoch 16/50\n",
      "540/540 [==============================] - 77s 143ms/step - loss: 0.0248 - val_loss: 0.0151\n",
      "Epoch 17/50\n",
      "540/540 [==============================] - 75s 139ms/step - loss: 0.0242 - val_loss: 0.0141\n",
      "Epoch 18/50\n",
      "540/540 [==============================] - 75s 139ms/step - loss: 0.0240 - val_loss: 0.0141\n",
      "Epoch 19/50\n",
      "540/540 [==============================] - 76s 141ms/step - loss: 0.0238 - val_loss: 0.0140\n",
      "Epoch 20/50\n",
      "540/540 [==============================] - 75s 139ms/step - loss: 0.0237 - val_loss: 0.0138\n",
      "Epoch 21/50\n",
      "540/540 [==============================] - 76s 141ms/step - loss: 0.0236 - val_loss: 0.0141\n",
      "Epoch 22/50\n",
      "540/540 [==============================] - 75s 140ms/step - loss: 0.0236 - val_loss: 0.0139\n",
      "Epoch 23/50\n",
      "540/540 [==============================] - 75s 140ms/step - loss: 0.0234 - val_loss: 0.0146\n",
      "Epoch 24/50\n",
      "540/540 [==============================] - 75s 139ms/step - loss: 0.0234 - val_loss: 0.0144\n",
      "Epoch 25/50\n",
      "540/540 [==============================] - 75s 139ms/step - loss: 0.0231 - val_loss: 0.0145\n",
      "Epoch 26/50\n",
      "540/540 [==============================] - 76s 140ms/step - loss: 0.0230 - val_loss: 0.0157\n",
      "Epoch 27/50\n",
      "540/540 [==============================] - 80s 149ms/step - loss: 0.0229 - val_loss: 0.0147\n",
      "Epoch 28/50\n",
      "540/540 [==============================] - 84s 156ms/step - loss: 0.0230 - val_loss: 0.0142\n",
      "Epoch 29/50\n",
      "540/540 [==============================] - 76s 140ms/step - loss: 0.0229 - val_loss: 0.0143\n",
      "Epoch 30/50\n",
      "540/540 [==============================] - 75s 139ms/step - loss: 0.0228 - val_loss: 0.0147\n",
      "Epoch 31/50\n",
      "540/540 [==============================] - 75s 139ms/step - loss: 0.0227 - val_loss: 0.0145\n",
      "Epoch 32/50\n",
      "540/540 [==============================] - 76s 140ms/step - loss: 0.0227 - val_loss: 0.0147\n",
      "Epoch 33/50\n",
      "540/540 [==============================] - 76s 141ms/step - loss: 0.0226 - val_loss: 0.0140\n",
      "Epoch 34/50\n",
      "540/540 [==============================] - 76s 140ms/step - loss: 0.0226 - val_loss: 0.0142\n",
      "Epoch 35/50\n",
      "540/540 [==============================] - 75s 140ms/step - loss: 0.0225 - val_loss: 0.0136\n",
      "Epoch 36/50\n",
      "540/540 [==============================] - 77s 142ms/step - loss: 0.0224 - val_loss: 0.0138\n",
      "Epoch 37/50\n",
      "540/540 [==============================] - 80s 147ms/step - loss: 0.0224 - val_loss: 0.0140\n",
      "Epoch 38/50\n",
      "540/540 [==============================] - 76s 140ms/step - loss: 0.0224 - val_loss: 0.0132\n",
      "Epoch 39/50\n",
      "540/540 [==============================] - 76s 140ms/step - loss: 0.0224 - val_loss: 0.0137\n",
      "Epoch 40/50\n",
      "540/540 [==============================] - 77s 142ms/step - loss: 0.0224 - val_loss: 0.0131\n",
      "Epoch 41/50\n",
      "540/540 [==============================] - 76s 140ms/step - loss: 0.0224 - val_loss: 0.0128\n",
      "Epoch 42/50\n",
      "540/540 [==============================] - 76s 141ms/step - loss: 0.0223 - val_loss: 0.0130\n",
      "Epoch 43/50\n",
      "540/540 [==============================] - 76s 140ms/step - loss: 0.0221 - val_loss: 0.0137\n",
      "Epoch 44/50\n",
      "540/540 [==============================] - 87s 162ms/step - loss: 0.0221 - val_loss: 0.0134\n",
      "Epoch 45/50\n",
      "540/540 [==============================] - 87s 161ms/step - loss: 0.0221 - val_loss: 0.0131\n",
      "Epoch 46/50\n",
      "540/540 [==============================] - 87s 162ms/step - loss: 0.0221 - val_loss: 0.0126\n",
      "Epoch 47/50\n",
      "540/540 [==============================] - 87s 160ms/step - loss: 0.0221 - val_loss: 0.0128\n",
      "Epoch 48/50\n",
      "540/540 [==============================] - 87s 161ms/step - loss: 0.0221 - val_loss: 0.0120\n",
      "Epoch 49/50\n",
      "540/540 [==============================] - 87s 162ms/step - loss: 0.0221 - val_loss: 0.0117\n",
      "Epoch 50/50\n",
      "540/540 [==============================] - 87s 161ms/step - loss: 0.0220 - val_loss: 0.0127\n"
     ]
    },
    {
     "data": {
      "image/png": "[encoded data removed]",
      "text/plain": [
       "<Figure size 640x480 with 1 Axes>"
      ]
     },
     "metadata": {},
     "output_type": "display_data"
    },
    {
     "name": "stdout",
     "output_type": "stream",
     "text": [
      "---Finish Unit 50---\n"
     ]
    }
   ],
   "source": [
    "train(50)"
   ]
  }
 ],
 "metadata": {
  "kernelspec": {
   "display_name": "bigdata",
   "language": "python",
   "name": "python3"
  },
  "language_info": {
   "codemirror_mode": {
    "name": "ipython",
    "version": 3
   },
   "file_extension": ".py",
   "mimetype": "text/x-python",
   "name": "python",
   "nbconvert_exporter": "python",
   "pygments_lexer": "ipython3",
   "version": "3.8.15"
  },
  "orig_nbformat": 4,
  "vscode": {
   "interpreter": {
    "hash": "e5770e3b25a98de75bce43f2f8d39d9898bdd15f26b6dfc4856e2120567bac70"
   }
  }
 },
 "nbformat": 4,
 "nbformat_minor": 2
}
