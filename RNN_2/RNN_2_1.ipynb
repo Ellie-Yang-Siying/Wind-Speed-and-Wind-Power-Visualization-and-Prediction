{
 "cells": [
  {
   "attachments": {},
   "cell_type": "markdown",
   "metadata": {},
   "source": [
    "RNN_2\n",
    "这里是用前60min预测之后连续的30min。\n",
    "【next】：预测后4h的15min；\n",
    "另外，发现预测短期的结果很不错，但是时间越长越不行，考虑：\n",
    "【next】：把预测得到的结果重新作为输入，接着预测下面的。"
   ]
  },
  {
   "attachments": {},
   "cell_type": "markdown",
   "metadata": {},
   "source": [
    "https://keras-cn.readthedocs.io/en/latest/getting_started/functional_API/\n",
    "keras中文文档\n"
   ]
  },
  {
   "cell_type": "code",
   "execution_count": 1,
   "metadata": {},
   "outputs": [],
   "source": [
    "# -*- coding: utf-8 -*-\n",
    "#coding:unicode_escape\n",
    "import pandas as pd\n",
    "import numpy as np\n",
    "from sklearn.preprocessing import MinMaxScaler\n",
    "from sklearn.model_selection import train_test_split\n",
    "from tensorflow import keras\n",
    "import matplotlib.pyplot as plt\n",
    "plt.rcParams['font.sans-serif'] = ['SimHei']  # 显示中文标签\n",
    "plt.rcParams['axes.unicode_minus'] = False#解决负数问题"
   ]
  },
  {
   "cell_type": "code",
   "execution_count": 2,
   "metadata": {},
   "outputs": [
    {
     "data": {
      "text/html": [
       "<div>\n",
       "<style scoped>\n",
       "    .dataframe tbody tr th:only-of-type {\n",
       "        vertical-align: middle;\n",
       "    }\n",
       "\n",
       "    .dataframe tbody tr th {\n",
       "        vertical-align: top;\n",
       "    }\n",
       "\n",
       "    .dataframe thead th {\n",
       "        text-align: right;\n",
       "    }\n",
       "</style>\n",
       "<table border=\"1\" class=\"dataframe\">\n",
       "  <thead>\n",
       "    <tr style=\"text-align: right;\">\n",
       "      <th></th>\n",
       "      <th>date</th>\n",
       "      <th>power</th>\n",
       "      <th>speed</th>\n",
       "      <th>day</th>\n",
       "    </tr>\n",
       "  </thead>\n",
       "  <tbody>\n",
       "    <tr>\n",
       "      <th>0</th>\n",
       "      <td>2015/10/1 0:00</td>\n",
       "      <td>0.38065</td>\n",
       "      <td>0.39627</td>\n",
       "      <td>1</td>\n",
       "    </tr>\n",
       "    <tr>\n",
       "      <th>1</th>\n",
       "      <td>2015/10/1 0:00</td>\n",
       "      <td>0.36943</td>\n",
       "      <td>0.39592</td>\n",
       "      <td>1</td>\n",
       "    </tr>\n",
       "    <tr>\n",
       "      <th>2</th>\n",
       "      <td>2015/10/1 0:01</td>\n",
       "      <td>0.38529</td>\n",
       "      <td>0.39538</td>\n",
       "      <td>1</td>\n",
       "    </tr>\n",
       "    <tr>\n",
       "      <th>3</th>\n",
       "      <td>2015/10/1 0:01</td>\n",
       "      <td>0.38892</td>\n",
       "      <td>0.39579</td>\n",
       "      <td>1</td>\n",
       "    </tr>\n",
       "    <tr>\n",
       "      <th>4</th>\n",
       "      <td>2015/10/1 0:02</td>\n",
       "      <td>0.41220</td>\n",
       "      <td>0.39627</td>\n",
       "      <td>1</td>\n",
       "    </tr>\n",
       "    <tr>\n",
       "      <th>...</th>\n",
       "      <td>...</td>\n",
       "      <td>...</td>\n",
       "      <td>...</td>\n",
       "      <td>...</td>\n",
       "    </tr>\n",
       "    <tr>\n",
       "      <th>89275</th>\n",
       "      <td>2015/10/31 23:57</td>\n",
       "      <td>0.10177</td>\n",
       "      <td>0.27803</td>\n",
       "      <td>31</td>\n",
       "    </tr>\n",
       "    <tr>\n",
       "      <th>89276</th>\n",
       "      <td>2015/10/31 23:58</td>\n",
       "      <td>0.10354</td>\n",
       "      <td>0.27682</td>\n",
       "      <td>31</td>\n",
       "    </tr>\n",
       "    <tr>\n",
       "      <th>89277</th>\n",
       "      <td>2015/10/31 23:58</td>\n",
       "      <td>0.10008</td>\n",
       "      <td>0.27529</td>\n",
       "      <td>31</td>\n",
       "    </tr>\n",
       "    <tr>\n",
       "      <th>89278</th>\n",
       "      <td>2015/10/31 23:59</td>\n",
       "      <td>0.10516</td>\n",
       "      <td>0.27481</td>\n",
       "      <td>31</td>\n",
       "    </tr>\n",
       "    <tr>\n",
       "      <th>89279</th>\n",
       "      <td>2015/10/31 23:59</td>\n",
       "      <td>0.10410</td>\n",
       "      <td>0.27452</td>\n",
       "      <td>31</td>\n",
       "    </tr>\n",
       "  </tbody>\n",
       "</table>\n",
       "<p>89280 rows × 4 columns</p>\n",
       "</div>"
      ],
      "text/plain": [
       "                   date    power    speed  day\n",
       "0        2015/10/1 0:00  0.38065  0.39627    1\n",
       "1        2015/10/1 0:00  0.36943  0.39592    1\n",
       "2        2015/10/1 0:01  0.38529  0.39538    1\n",
       "3        2015/10/1 0:01  0.38892  0.39579    1\n",
       "4        2015/10/1 0:02  0.41220  0.39627    1\n",
       "...                 ...      ...      ...  ...\n",
       "89275  2015/10/31 23:57  0.10177  0.27803   31\n",
       "89276  2015/10/31 23:58  0.10354  0.27682   31\n",
       "89277  2015/10/31 23:58  0.10008  0.27529   31\n",
       "89278  2015/10/31 23:59  0.10516  0.27481   31\n",
       "89279  2015/10/31 23:59  0.10410  0.27452   31\n",
       "\n",
       "[89280 rows x 4 columns]"
      ]
     },
     "execution_count": 2,
     "metadata": {},
     "output_type": "execute_result"
    }
   ],
   "source": [
    "df = pd.read_csv(\"C:/Users/24496/Desktop/BigData/wind_raw.csv\",encoding='unicode_escape')\n",
    "df = df[['date','power','speed','day']]\n",
    "df"
   ]
  },
  {
   "cell_type": "code",
   "execution_count": 3,
   "metadata": {},
   "outputs": [
    {
     "data": {
      "text/html": [
       "<div>\n",
       "<style scoped>\n",
       "    .dataframe tbody tr th:only-of-type {\n",
       "        vertical-align: middle;\n",
       "    }\n",
       "\n",
       "    .dataframe tbody tr th {\n",
       "        vertical-align: top;\n",
       "    }\n",
       "\n",
       "    .dataframe thead th {\n",
       "        text-align: right;\n",
       "    }\n",
       "</style>\n",
       "<table border=\"1\" class=\"dataframe\">\n",
       "  <thead>\n",
       "    <tr style=\"text-align: right;\">\n",
       "      <th></th>\n",
       "      <th>power</th>\n",
       "      <th>speed</th>\n",
       "    </tr>\n",
       "  </thead>\n",
       "  <tbody>\n",
       "    <tr>\n",
       "      <th>0</th>\n",
       "      <td>0.38065</td>\n",
       "      <td>0.39627</td>\n",
       "    </tr>\n",
       "    <tr>\n",
       "      <th>1</th>\n",
       "      <td>0.36943</td>\n",
       "      <td>0.39592</td>\n",
       "    </tr>\n",
       "    <tr>\n",
       "      <th>2</th>\n",
       "      <td>0.38529</td>\n",
       "      <td>0.39538</td>\n",
       "    </tr>\n",
       "    <tr>\n",
       "      <th>3</th>\n",
       "      <td>0.38892</td>\n",
       "      <td>0.39579</td>\n",
       "    </tr>\n",
       "    <tr>\n",
       "      <th>4</th>\n",
       "      <td>0.41220</td>\n",
       "      <td>0.39627</td>\n",
       "    </tr>\n",
       "    <tr>\n",
       "      <th>...</th>\n",
       "      <td>...</td>\n",
       "      <td>...</td>\n",
       "    </tr>\n",
       "    <tr>\n",
       "      <th>89275</th>\n",
       "      <td>0.10177</td>\n",
       "      <td>0.27803</td>\n",
       "    </tr>\n",
       "    <tr>\n",
       "      <th>89276</th>\n",
       "      <td>0.10354</td>\n",
       "      <td>0.27682</td>\n",
       "    </tr>\n",
       "    <tr>\n",
       "      <th>89277</th>\n",
       "      <td>0.10008</td>\n",
       "      <td>0.27529</td>\n",
       "    </tr>\n",
       "    <tr>\n",
       "      <th>89278</th>\n",
       "      <td>0.10516</td>\n",
       "      <td>0.27481</td>\n",
       "    </tr>\n",
       "    <tr>\n",
       "      <th>89279</th>\n",
       "      <td>0.10410</td>\n",
       "      <td>0.27452</td>\n",
       "    </tr>\n",
       "  </tbody>\n",
       "</table>\n",
       "<p>89280 rows × 2 columns</p>\n",
       "</div>"
      ],
      "text/plain": [
       "         power    speed\n",
       "0      0.38065  0.39627\n",
       "1      0.36943  0.39592\n",
       "2      0.38529  0.39538\n",
       "3      0.38892  0.39579\n",
       "4      0.41220  0.39627\n",
       "...        ...      ...\n",
       "89275  0.10177  0.27803\n",
       "89276  0.10354  0.27682\n",
       "89277  0.10008  0.27529\n",
       "89278  0.10516  0.27481\n",
       "89279  0.10410  0.27452\n",
       "\n",
       "[89280 rows x 2 columns]"
      ]
     },
     "execution_count": 3,
     "metadata": {},
     "output_type": "execute_result"
    }
   ],
   "source": [
    "df_only_power = df[['power','speed']]\n",
    "df_only_power\n"
   ]
  },
  {
   "cell_type": "code",
   "execution_count": 4,
   "metadata": {},
   "outputs": [
    {
     "data": {
      "text/html": [
       "<div>\n",
       "<style scoped>\n",
       "    .dataframe tbody tr th:only-of-type {\n",
       "        vertical-align: middle;\n",
       "    }\n",
       "\n",
       "    .dataframe tbody tr th {\n",
       "        vertical-align: top;\n",
       "    }\n",
       "\n",
       "    .dataframe thead th {\n",
       "        text-align: right;\n",
       "    }\n",
       "</style>\n",
       "<table border=\"1\" class=\"dataframe\">\n",
       "  <thead>\n",
       "    <tr style=\"text-align: right;\">\n",
       "      <th></th>\n",
       "      <th>power</th>\n",
       "      <th>speed</th>\n",
       "    </tr>\n",
       "  </thead>\n",
       "  <tbody>\n",
       "    <tr>\n",
       "      <th>0</th>\n",
       "      <td>0.38065</td>\n",
       "      <td>0.39627</td>\n",
       "    </tr>\n",
       "    <tr>\n",
       "      <th>1</th>\n",
       "      <td>0.36943</td>\n",
       "      <td>0.39592</td>\n",
       "    </tr>\n",
       "    <tr>\n",
       "      <th>2</th>\n",
       "      <td>0.38529</td>\n",
       "      <td>0.39538</td>\n",
       "    </tr>\n",
       "    <tr>\n",
       "      <th>3</th>\n",
       "      <td>0.38892</td>\n",
       "      <td>0.39579</td>\n",
       "    </tr>\n",
       "    <tr>\n",
       "      <th>4</th>\n",
       "      <td>0.41220</td>\n",
       "      <td>0.39627</td>\n",
       "    </tr>\n",
       "    <tr>\n",
       "      <th>...</th>\n",
       "      <td>...</td>\n",
       "      <td>...</td>\n",
       "    </tr>\n",
       "    <tr>\n",
       "      <th>28795</th>\n",
       "      <td>0.53945</td>\n",
       "      <td>0.44130</td>\n",
       "    </tr>\n",
       "    <tr>\n",
       "      <th>28796</th>\n",
       "      <td>0.52914</td>\n",
       "      <td>0.44172</td>\n",
       "    </tr>\n",
       "    <tr>\n",
       "      <th>28797</th>\n",
       "      <td>0.53353</td>\n",
       "      <td>0.44153</td>\n",
       "    </tr>\n",
       "    <tr>\n",
       "      <th>28798</th>\n",
       "      <td>0.50544</td>\n",
       "      <td>0.44203</td>\n",
       "    </tr>\n",
       "    <tr>\n",
       "      <th>28799</th>\n",
       "      <td>0.53408</td>\n",
       "      <td>0.44248</td>\n",
       "    </tr>\n",
       "  </tbody>\n",
       "</table>\n",
       "<p>28800 rows × 2 columns</p>\n",
       "</div>"
      ],
      "text/plain": [
       "         power    speed\n",
       "0      0.38065  0.39627\n",
       "1      0.36943  0.39592\n",
       "2      0.38529  0.39538\n",
       "3      0.38892  0.39579\n",
       "4      0.41220  0.39627\n",
       "...        ...      ...\n",
       "28795  0.53945  0.44130\n",
       "28796  0.52914  0.44172\n",
       "28797  0.53353  0.44153\n",
       "28798  0.50544  0.44203\n",
       "28799  0.53408  0.44248\n",
       "\n",
       "[28800 rows x 2 columns]"
      ]
     },
     "execution_count": 4,
     "metadata": {},
     "output_type": "execute_result"
    }
   ],
   "source": [
    "#使用前10天的数据做训练\n",
    "df_train = df_only_power.iloc[:10*2880]\n",
    "df_train\n",
    "# df_train.isnull().values.any()   False"
   ]
  },
  {
   "attachments": {},
   "cell_type": "markdown",
   "metadata": {},
   "source": [
    "这里read_data和ANN_1不一样了。\n",
    "改成，用之前N=30*2个数据预测后15min的数据"
   ]
  },
  {
   "cell_type": "code",
   "execution_count": 5,
   "metadata": {},
   "outputs": [],
   "source": [
    "# import pandas as pd\n",
    "# daaaa= pd.DataFrame([1,2,3,4,5,6,7,8,9,10])\n",
    "# def read_data(N,P):  #N是特征数目，就是用之前多少个power来预测；P是预测未来多少min之后的\n",
    "\n",
    "#     data = daaaa.values\n",
    "#     X = []\n",
    "#     Y = []\n",
    "#     for i in range(N,len(data)-P):  #\n",
    "#         # print(\"i:\",i)\n",
    "#         s=[]\n",
    "#         for j in range(i-N,i):\n",
    "#             # print(j)\n",
    "#             s.append(data[j][0])\n",
    "#             # print(s)\n",
    "#         X.append(s)\n",
    "#         t=[]\n",
    "#         for k in range(i,i+P):   #Y是对未来的预测，预测的是好几个数值，现在是之后P/2分钟的结果。\n",
    "#             t.append(data[k][0])\n",
    "#         Y.append(t)\n",
    "#     print(\"X\",X)\n",
    "#     print(Y)\n",
    "\n",
    "#     # return np.array(X),np.array(Y)\n",
    "# read_data(3,2)"
   ]
  },
  {
   "cell_type": "code",
   "execution_count": 6,
   "metadata": {},
   "outputs": [],
   "source": [
    "\n",
    "def read_data(N,P):  #N是特征数目，就是用之前多少个power来预测；P是预测未来多少min之后的\n",
    "\n",
    "    data = df_train.values\n",
    "    X = []\n",
    "    Y = []\n",
    "    for i in range(N,len(data)-P):  #\n",
    "        # print(\"i:\",i)\n",
    "        s=[]\n",
    "        for j in range(i-N,i):\n",
    "            # print(j)\n",
    "            s.append(data[j][0])\n",
    "            s.append(data[j][1])\n",
    "            # print(s)\n",
    "        X.append(s)\n",
    "        t=[]\n",
    "        for k in range(i,i+P):   #Y是对未来的预测，预测的是好几个数值，现在是之后P/2分钟的结果。\n",
    "            t.append(data[k][0])\n",
    "        Y.append(t)\n",
    "    # print(\"X\",X)\n",
    "    # print(Y)\n",
    "    return np.array(X),np.array(Y)\n",
    "N = 120\n",
    "P = 60\n",
    "x_train,y_train = read_data(N,P)"
   ]
  },
  {
   "cell_type": "code",
   "execution_count": 7,
   "metadata": {},
   "outputs": [
    {
     "data": {
      "text/plain": [
       "array([[0.38065, 0.39627, 0.36943, ..., 0.38963, 0.3596 , 0.38971],\n",
       "       [0.36943, 0.39592, 0.38529, ..., 0.38971, 0.34383, 0.38884],\n",
       "       [0.38529, 0.39538, 0.38892, ..., 0.38884, 0.34248, 0.38733],\n",
       "       ...,\n",
       "       [0.47548, 0.43159, 0.48501, ..., 0.418  , 0.47008, 0.42052],\n",
       "       [0.48501, 0.43195, 0.48227, ..., 0.42052, 0.47062, 0.41977],\n",
       "       [0.48227, 0.43115, 0.46544, ..., 0.41977, 0.47196, 0.42231]])"
      ]
     },
     "execution_count": 7,
     "metadata": {},
     "output_type": "execute_result"
    }
   ],
   "source": [
    "x_train"
   ]
  },
  {
   "cell_type": "code",
   "execution_count": 8,
   "metadata": {},
   "outputs": [],
   "source": [
    "# def read_data(N,P):  #N是特征数目，就是用之前多少个power来预测；P是预测未来多少min之后的\n",
    "\n",
    "#     data = df_train.values\n",
    "#     X = []\n",
    "#     Y = []\n",
    "#     for i in range(N,len(data)-P):  #\n",
    "#         s=[]\n",
    "#         for j in range(i-N,i):\n",
    "#             s.append(data[j][0])\n",
    "#         X.append(s)\n",
    "#         Y.append(data[i][0])\n",
    "\n",
    "#     return np.array(X),np.array(Y)\n",
    "\n",
    "# Nset = 30*2 #用前20min的power预测后一个i\n",
    "\n",
    "# N= Nset  \n",
    "# X,Y = read_data(N)\n",
    "# X\n"
   ]
  },
  {
   "cell_type": "code",
   "execution_count": 9,
   "metadata": {},
   "outputs": [],
   "source": [
    "x_train,x_test,y_train,y_test = train_test_split(x_train,y_train,test_size = 0.2)\n"
   ]
  },
  {
   "cell_type": "code",
   "execution_count": 10,
   "metadata": {},
   "outputs": [
    {
     "data": {
      "text/plain": [
       "array([[0.10532, 0.10767, 0.10604, ..., 0.143  , 0.14167, 0.14305],\n",
       "       [0.08403, 0.08594, 0.08662, ..., 0.08148, 0.08197, 0.08198],\n",
       "       [0.72818, 0.70982, 0.72643, ..., 0.71968, 0.67509, 0.71254],\n",
       "       ...,\n",
       "       [0.03688, 0.03513, 0.03352, ..., 0.02861, 0.0263 , 0.02244],\n",
       "       [0.72828, 0.74387, 0.72715, ..., 0.75447, 0.75228, 0.77156],\n",
       "       [0.1147 , 0.11189, 0.11151, ..., 0.11103, 0.10721, 0.10467]])"
      ]
     },
     "execution_count": 10,
     "metadata": {},
     "output_type": "execute_result"
    }
   ],
   "source": [
    "y_test"
   ]
  },
  {
   "cell_type": "code",
   "execution_count": 11,
   "metadata": {},
   "outputs": [],
   "source": [
    "x_train = np.reshape(x_train, (x_train.shape[0], x_train.shape[1], 1))\n"
   ]
  },
  {
   "cell_type": "code",
   "execution_count": 12,
   "metadata": {},
   "outputs": [],
   "source": [
    "from keras.models import Sequential\n",
    "from keras.layers import Dense\n",
    "from keras.layers import SimpleRNN,LSTM\n"
   ]
  },
  {
   "cell_type": "code",
   "execution_count": null,
   "metadata": {},
   "outputs": [],
   "source": []
  },
  {
   "attachments": {},
   "cell_type": "markdown",
   "metadata": {},
   "source": [
    "这个参数不错：\n",
    " 初始化顺序模型\n",
    "regressor = Sequential()\n",
    " \n",
    "定义输入层及带5个神经元的隐藏层\n",
    "regressor.add(SimpleRNN(units = 10, input_shape = (x_train.shape[1], 1)))\n",
    " 定义线性的输出层\n",
    "regressor.add(Dense(units = 60))\n",
    " 模型编译：定义优化算法adam， 目标函数均方根MSE\n",
    "regressor.compile(optimizer = 'adam', loss = 'mean_squared_error')\n",
    " 模型训练\n",
    "history = regressor.fit(x_train, y_train, epochs = 100, batch_size = 300, validation_split=0.)\n",
    " \n",
    "regressor.summary()"
   ]
  },
  {
   "cell_type": "code",
   "execution_count": 13,
   "metadata": {},
   "outputs": [],
   "source": [
    "# 初始化顺序模型\n",
    "regressor = Sequential()\n",
    " \n",
    "# 定义输入层及带5个神经元的隐藏层\n",
    "regressor.add(SimpleRNN(units = 15, input_shape = (x_train.shape[1], 1)))\n",
    "# 定义线性的输出层\n",
    "regressor.add(Dense(units = 60))\n",
    "# 模型编译：定义优化算法adam， 目标函数均方根MSE\n",
    "# regressor.compile(optimizer = 'adam', loss = 'mean_squared_error')\n",
    "# # 模型训练\n",
    "# history = regressor.fit(x_train, y_train, epochs = 80, batch_size = 250, validation_split=0.3)\n",
    "\n",
    "# regressor.summary()"
   ]
  },
  {
   "cell_type": "code",
   "execution_count": null,
   "metadata": {},
   "outputs": [],
   "source": []
  },
  {
   "cell_type": "code",
   "execution_count": 14,
   "metadata": {},
   "outputs": [],
   "source": [
    "# regressor.save_weights('RNN_2.h5')\n",
    "regressor.load_weights(\"C:/Users/24496/Desktop/大数据final版本/RNN_2.h5\") \n"
   ]
  },
  {
   "cell_type": "code",
   "execution_count": 15,
   "metadata": {},
   "outputs": [],
   "source": [
    "# from keras.models import load_model\n",
    "# model = load_model('RNN_2.h5')"
   ]
  },
  {
   "cell_type": "code",
   "execution_count": 16,
   "metadata": {},
   "outputs": [],
   "source": [
    "# #模型结构，采用relu函数为激活函数，输入层为N个属性\n",
    "# #下面为4层隐含层，每层的神经元个数依次为500，500，250，250\n",
    "# #输入层对应N个属性\n",
    "# N=120\n",
    "# model = keras.Sequential([\n",
    "#         keras.layers.Dense(500,activation='relu',input_shape=[N]),\n",
    "#         keras.layers.Dense(500,activation='relu'),\n",
    "#         keras.layers.Dense(250,activation='relu'),\n",
    "#         keras.layers.Dense(250,activation='relu'),\n",
    "#         keras.layers.Dense(250,activation='relu'),\n",
    "#         keras.layers.Dense(P)])#最后输出为P个数据，也就是预测的值\n",
    "# #定义损失函数loss，采用的优化器optimizer为Adam\n",
    "# model.compile(loss='mean_squared_error',optimizer='Adam')\n",
    "# history = model.fit(x_train,y_train,batch_size = 250,epochs=1000)   #训练epochs个批次，每个批次数据量为batch_size"
   ]
  },
  {
   "cell_type": "code",
   "execution_count": 17,
   "metadata": {},
   "outputs": [],
   "source": [
    "# plt.plot(history.history['loss'],c='blue')    # 蓝色线训练集损失\n",
    "# plt.plot(history.history['val_loss'],c='red') # 红色线验证集损失\n",
    "# plt.show()"
   ]
  },
  {
   "cell_type": "code",
   "execution_count": 18,
   "metadata": {},
   "outputs": [],
   "source": [
    "# loss= model.evaluate(x_train,y_train,verbose = 2)\n",
    "# rmse = loss**0.5\n",
    "# print(\"rmse ={}\".format(rmse))"
   ]
  },
  {
   "cell_type": "code",
   "execution_count": null,
   "metadata": {},
   "outputs": [],
   "source": []
  },
  {
   "cell_type": "code",
   "execution_count": 19,
   "metadata": {},
   "outputs": [
    {
     "data": {
      "text/html": [
       "<div>\n",
       "<style scoped>\n",
       "    .dataframe tbody tr th:only-of-type {\n",
       "        vertical-align: middle;\n",
       "    }\n",
       "\n",
       "    .dataframe tbody tr th {\n",
       "        vertical-align: top;\n",
       "    }\n",
       "\n",
       "    .dataframe thead th {\n",
       "        text-align: right;\n",
       "    }\n",
       "</style>\n",
       "<table border=\"1\" class=\"dataframe\">\n",
       "  <thead>\n",
       "    <tr style=\"text-align: right;\">\n",
       "      <th></th>\n",
       "      <th>date</th>\n",
       "      <th>power</th>\n",
       "      <th>speed</th>\n",
       "      <th>day</th>\n",
       "    </tr>\n",
       "  </thead>\n",
       "  <tbody>\n",
       "    <tr>\n",
       "      <th>2880</th>\n",
       "      <td>2015/10/2 0:00</td>\n",
       "      <td>0.00915</td>\n",
       "      <td>0.18371</td>\n",
       "      <td>2</td>\n",
       "    </tr>\n",
       "    <tr>\n",
       "      <th>2881</th>\n",
       "      <td>2015/10/2 0:00</td>\n",
       "      <td>0.00864</td>\n",
       "      <td>0.18257</td>\n",
       "      <td>2</td>\n",
       "    </tr>\n",
       "    <tr>\n",
       "      <th>2882</th>\n",
       "      <td>2015/10/2 0:01</td>\n",
       "      <td>0.00627</td>\n",
       "      <td>0.18162</td>\n",
       "      <td>2</td>\n",
       "    </tr>\n",
       "    <tr>\n",
       "      <th>2883</th>\n",
       "      <td>2015/10/2 0:01</td>\n",
       "      <td>0.00664</td>\n",
       "      <td>0.18062</td>\n",
       "      <td>2</td>\n",
       "    </tr>\n",
       "    <tr>\n",
       "      <th>2884</th>\n",
       "      <td>2015/10/2 0:02</td>\n",
       "      <td>0.00648</td>\n",
       "      <td>0.17980</td>\n",
       "      <td>2</td>\n",
       "    </tr>\n",
       "    <tr>\n",
       "      <th>...</th>\n",
       "      <td>...</td>\n",
       "      <td>...</td>\n",
       "      <td>...</td>\n",
       "      <td>...</td>\n",
       "    </tr>\n",
       "    <tr>\n",
       "      <th>5755</th>\n",
       "      <td>2015/10/2 23:57</td>\n",
       "      <td>0.22594</td>\n",
       "      <td>0.33787</td>\n",
       "      <td>2</td>\n",
       "    </tr>\n",
       "    <tr>\n",
       "      <th>5756</th>\n",
       "      <td>2015/10/2 23:58</td>\n",
       "      <td>0.22907</td>\n",
       "      <td>0.33951</td>\n",
       "      <td>2</td>\n",
       "    </tr>\n",
       "    <tr>\n",
       "      <th>5757</th>\n",
       "      <td>2015/10/2 23:58</td>\n",
       "      <td>0.23524</td>\n",
       "      <td>0.33987</td>\n",
       "      <td>2</td>\n",
       "    </tr>\n",
       "    <tr>\n",
       "      <th>5758</th>\n",
       "      <td>2015/10/2 23:59</td>\n",
       "      <td>0.24595</td>\n",
       "      <td>0.34125</td>\n",
       "      <td>2</td>\n",
       "    </tr>\n",
       "    <tr>\n",
       "      <th>5759</th>\n",
       "      <td>2015/10/2 23:59</td>\n",
       "      <td>0.25806</td>\n",
       "      <td>0.34324</td>\n",
       "      <td>2</td>\n",
       "    </tr>\n",
       "  </tbody>\n",
       "</table>\n",
       "<p>2880 rows × 4 columns</p>\n",
       "</div>"
      ],
      "text/plain": [
       "                 date    power    speed  day\n",
       "2880   2015/10/2 0:00  0.00915  0.18371    2\n",
       "2881   2015/10/2 0:00  0.00864  0.18257    2\n",
       "2882   2015/10/2 0:01  0.00627  0.18162    2\n",
       "2883   2015/10/2 0:01  0.00664  0.18062    2\n",
       "2884   2015/10/2 0:02  0.00648  0.17980    2\n",
       "...               ...      ...      ...  ...\n",
       "5755  2015/10/2 23:57  0.22594  0.33787    2\n",
       "5756  2015/10/2 23:58  0.22907  0.33951    2\n",
       "5757  2015/10/2 23:58  0.23524  0.33987    2\n",
       "5758  2015/10/2 23:59  0.24595  0.34125    2\n",
       "5759  2015/10/2 23:59  0.25806  0.34324    2\n",
       "\n",
       "[2880 rows x 4 columns]"
      ]
     },
     "execution_count": 19,
     "metadata": {},
     "output_type": "execute_result"
    }
   ],
   "source": [
    "#使用第12天的数据做预测验证\n",
    "df_test = df.iloc[1*2880:2*2880]\n",
    "df_test\n",
    "# df_test.isnull().values.any()"
   ]
  },
  {
   "cell_type": "code",
   "execution_count": 20,
   "metadata": {},
   "outputs": [
    {
     "data": {
      "text/html": [
       "<div>\n",
       "<style scoped>\n",
       "    .dataframe tbody tr th:only-of-type {\n",
       "        vertical-align: middle;\n",
       "    }\n",
       "\n",
       "    .dataframe tbody tr th {\n",
       "        vertical-align: top;\n",
       "    }\n",
       "\n",
       "    .dataframe thead th {\n",
       "        text-align: right;\n",
       "    }\n",
       "</style>\n",
       "<table border=\"1\" class=\"dataframe\">\n",
       "  <thead>\n",
       "    <tr style=\"text-align: right;\">\n",
       "      <th></th>\n",
       "      <th>power</th>\n",
       "      <th>speed</th>\n",
       "    </tr>\n",
       "  </thead>\n",
       "  <tbody>\n",
       "    <tr>\n",
       "      <th>2880</th>\n",
       "      <td>0.00915</td>\n",
       "      <td>0.18371</td>\n",
       "    </tr>\n",
       "    <tr>\n",
       "      <th>2881</th>\n",
       "      <td>0.00864</td>\n",
       "      <td>0.18257</td>\n",
       "    </tr>\n",
       "    <tr>\n",
       "      <th>2882</th>\n",
       "      <td>0.00627</td>\n",
       "      <td>0.18162</td>\n",
       "    </tr>\n",
       "    <tr>\n",
       "      <th>2883</th>\n",
       "      <td>0.00664</td>\n",
       "      <td>0.18062</td>\n",
       "    </tr>\n",
       "    <tr>\n",
       "      <th>2884</th>\n",
       "      <td>0.00648</td>\n",
       "      <td>0.17980</td>\n",
       "    </tr>\n",
       "    <tr>\n",
       "      <th>...</th>\n",
       "      <td>...</td>\n",
       "      <td>...</td>\n",
       "    </tr>\n",
       "    <tr>\n",
       "      <th>5755</th>\n",
       "      <td>0.22594</td>\n",
       "      <td>0.33787</td>\n",
       "    </tr>\n",
       "    <tr>\n",
       "      <th>5756</th>\n",
       "      <td>0.22907</td>\n",
       "      <td>0.33951</td>\n",
       "    </tr>\n",
       "    <tr>\n",
       "      <th>5757</th>\n",
       "      <td>0.23524</td>\n",
       "      <td>0.33987</td>\n",
       "    </tr>\n",
       "    <tr>\n",
       "      <th>5758</th>\n",
       "      <td>0.24595</td>\n",
       "      <td>0.34125</td>\n",
       "    </tr>\n",
       "    <tr>\n",
       "      <th>5759</th>\n",
       "      <td>0.25806</td>\n",
       "      <td>0.34324</td>\n",
       "    </tr>\n",
       "  </tbody>\n",
       "</table>\n",
       "<p>2880 rows × 2 columns</p>\n",
       "</div>"
      ],
      "text/plain": [
       "        power    speed\n",
       "2880  0.00915  0.18371\n",
       "2881  0.00864  0.18257\n",
       "2882  0.00627  0.18162\n",
       "2883  0.00664  0.18062\n",
       "2884  0.00648  0.17980\n",
       "...       ...      ...\n",
       "5755  0.22594  0.33787\n",
       "5756  0.22907  0.33951\n",
       "5757  0.23524  0.33987\n",
       "5758  0.24595  0.34125\n",
       "5759  0.25806  0.34324\n",
       "\n",
       "[2880 rows x 2 columns]"
      ]
     },
     "execution_count": 20,
     "metadata": {},
     "output_type": "execute_result"
    }
   ],
   "source": [
    "df_test_only_power = df_test[['power','speed']]\n",
    "df_test_only_power"
   ]
  },
  {
   "cell_type": "code",
   "execution_count": 21,
   "metadata": {},
   "outputs": [],
   "source": [
    "# def read_data(N,P):  #N是特征数目，就是用之前多少个power来预测；P是预测未来多少min之后的\n",
    "\n",
    "#     data = df_train.values\n",
    "#     X = []\n",
    "#     Y = []\n",
    "#     for i in range(N,len(data)-P):  #\n",
    "#         # print(\"i:\",i)\n",
    "#         s=[]\n",
    "#         for j in range(i-N,i):\n",
    "#             # print(j)\n",
    "#             s.append(data[j][0])\n",
    "#             # print(s)\n",
    "#         X.append(s)\n",
    "#         t=[]\n",
    "#         for k in range(i,i+P):   #Y是对未来的预测，预测的是好几个数值，现在是之后P/2分钟的结果。\n",
    "#             t.append(data[k][0])\n",
    "#         Y.append(t)\n",
    "#     # print(\"X\",X)\n",
    "#     # print(Y)\n",
    "#     return np.array(X),np.array(Y)\n",
    "# N = 120\n",
    "# x_train,y_train = read_data(120,60)"
   ]
  },
  {
   "cell_type": "code",
   "execution_count": 22,
   "metadata": {},
   "outputs": [
    {
     "data": {
      "text/plain": [
       "2700"
      ]
     },
     "execution_count": 22,
     "metadata": {},
     "output_type": "execute_result"
    }
   ],
   "source": [
    "def read_data_test(N,P):  #N是特征数目，就是用之前多少个power 来预测后一个i   现在这还是预测后一个i！！！\n",
    "\n",
    "    data = df_test_only_power.values\n",
    "    X = []\n",
    "    Y = []\n",
    "    for i in range(N,len(data)-P):  #\n",
    "        # print(\"i:\",i)\n",
    "        s=[]\n",
    "        for j in range(i-N,i):\n",
    "            # print(j)\n",
    "            s.append(data[j][0])\n",
    "            s.append(data[j][1])\n",
    "            # print(s)\n",
    "        X.append(s)\n",
    "        t=[]\n",
    "        for k in range(i,i+P):   #Y是对未来的预测，预测的是好几个数值，现在是之后P/2分钟的结果。\n",
    "            t.append(data[k][0])\n",
    "        Y.append(t)\n",
    "\n",
    "    return np.array(X),np.array(Y)\n",
    "N=120\n",
    "P=60\n",
    "x_test, y_test_true = read_data_test(N,P)\n",
    "len(y_test_true)\n",
    "\n"
   ]
  },
  {
   "cell_type": "code",
   "execution_count": 23,
   "metadata": {},
   "outputs": [],
   "source": [
    "x_test = np.reshape(x_test,(x_test.shape[0],x_test.shape[1],1))"
   ]
  },
  {
   "cell_type": "code",
   "execution_count": 24,
   "metadata": {},
   "outputs": [
    {
     "name": "stdout",
     "output_type": "stream",
     "text": [
      "85/85 [==============================] - 1s 10ms/step\n"
     ]
    }
   ],
   "source": [
    "#输出结果预测\n",
    "y_test_predict=regressor.predict(x_test)\n",
    "# print('预测结果为：',y_test_predict)"
   ]
  },
  {
   "cell_type": "code",
   "execution_count": 25,
   "metadata": {},
   "outputs": [
    {
     "data": {
      "text/plain": [
       "array([[0.00237, 0.00169, 0.00198, ..., 0.00042, 0.00042, 0.00042],\n",
       "       [0.00169, 0.00198, 0.00175, ..., 0.00042, 0.00042, 0.00042],\n",
       "       [0.00198, 0.00175, 0.00132, ..., 0.00042, 0.00042, 0.00042],\n",
       "       ...,\n",
       "       [0.1915 , 0.19359, 0.18257, ..., 0.22788, 0.22594, 0.22907],\n",
       "       [0.19359, 0.18257, 0.18522, ..., 0.22594, 0.22907, 0.23524],\n",
       "       [0.18257, 0.18522, 0.18464, ..., 0.22907, 0.23524, 0.24595]])"
      ]
     },
     "execution_count": 25,
     "metadata": {},
     "output_type": "execute_result"
    }
   ],
   "source": [
    "y_test_true"
   ]
  },
  {
   "cell_type": "code",
   "execution_count": 26,
   "metadata": {},
   "outputs": [
    {
     "name": "stdout",
     "output_type": "stream",
     "text": [
      "预测与实际差异RMSE: [0.00567705 0.00623187 0.00631891 0.0074485  0.00847588 0.00929942\n",
      " 0.00958293 0.01097706 0.01066965 0.01161483 0.01177766 0.01229101\n",
      " 0.01314271 0.01406443 0.01435663 0.01488078 0.01580226 0.01625708\n",
      " 0.0167949  0.0173552  0.01800713 0.01869126 0.01915893 0.02028807\n",
      " 0.02037066 0.02083967 0.02148105 0.02199853 0.02279142 0.02315781\n",
      " 0.02414311 0.02410409 0.02462938 0.02517296 0.02554198 0.02616118\n",
      " 0.02664719 0.02714302 0.02787945 0.02783877 0.02826129 0.02886722\n",
      " 0.0292658  0.02950853 0.02983121 0.03029369 0.030607   0.03124599\n",
      " 0.03139919 0.03161793 0.03199428 0.03257215 0.0327956  0.03297283\n",
      " 0.03345607 0.03382964 0.03389601 0.03409858 0.03469171 0.03465623]\n"
     ]
    }
   ],
   "source": [
    "#模型评估\n",
    "print('预测与实际差异RMSE:',(sum(pow((y_test_predict - y_test_true),2))/y_test_predict.shape[0])**0.5)"
   ]
  },
  {
   "cell_type": "code",
   "execution_count": 28,
   "metadata": {},
   "outputs": [
    {
     "name": "stdout",
     "output_type": "stream",
     "text": [
      "预测与实际差异RMSE: [0.00567705 0.00623187 0.00631891 0.0074485  0.00847588 0.00929942\n",
      " 0.00958293 0.01097706 0.01066965 0.01161483 0.01177766 0.01229101\n",
      " 0.01314271 0.01406443 0.01435663 0.01488078 0.01580226 0.01625708\n",
      " 0.0167949  0.0173552  0.01800713 0.01869126 0.01915893 0.02028807\n",
      " 0.02037066 0.02083967 0.02148105 0.02199853 0.02279142 0.02315781\n",
      " 0.02414311 0.02410409 0.02462938 0.02517296 0.02554198 0.02616118\n",
      " 0.02664719 0.02714302 0.02787945 0.02783877 0.02826129 0.02886722\n",
      " 0.0292658  0.02950853 0.02983121 0.03029369 0.030607   0.03124599\n",
      " 0.03139919 0.03161793 0.03199428 0.03257215 0.0327956  0.03297283\n",
      " 0.03345607 0.03382964 0.03389601 0.03409858 0.03469171 0.03465623]\n"
     ]
    },
    {
     "data": {
      "image/png": "[encoded data removed]",
      "text/plain": [
       "<Figure size 432x288 with 1 Axes>"
      ]
     },
     "metadata": {
      "needs_background": "light"
     },
     "output_type": "display_data"
    },
    {
     "data": {
      "image/png": "[encoded data removed]",
      "text/plain": [
       "<Figure size 432x288 with 1 Axes>"
      ]
     },
     "metadata": {
      "needs_background": "light"
     },
     "output_type": "display_data"
    }
   ],
   "source": [
    "#模型评估\n",
    "a = (sum(pow((y_test_predict - y_test_true),2))/y_test_predict.shape[0])**0.5\n",
    "print('预测与实际差异RMSE:',a)\n",
    "t = np.arange(len(a))\n",
    "# plt.figure(figsize=(18,6))\n",
    "plt.scatter(t,a,color = 'r')\n",
    "plt.plot(t, a,\"-\",color='r', linewidth=1)\n",
    "plt.ylabel('Rmse')\n",
    "\n",
    "# plt.plot(t, y_test_predict[40], 'go-', linewidth=1, label='Predict')\n",
    "# plt.legend()\n",
    "plt.show()\n",
    "tt = [1 for i in range(60)]\n",
    "acc = (tt - a)*100\n",
    "acc\n",
    "plt.scatter(t,acc)\n",
    "plt.plot(t, acc,\"-\", linewidth=1)\n",
    "plt.ylabel('Accuracy(%)')\n",
    "# plt.legend()\n",
    "plt.show()\n",
    "# print('预测与实际差异RMSE:',(sum(pow((y_test_predict - real_y),2))/y_test_predict.shape[0])**0.5)"
   ]
  },
  {
   "cell_type": "code",
   "execution_count": null,
   "metadata": {},
   "outputs": [],
   "source": [
    "rmse=(sum(pow((y_test_predict - y_test_true),2))/y_test_predict.shape[0])**0.5\n"
   ]
  },
  {
   "cell_type": "code",
   "execution_count": 35,
   "metadata": {},
   "outputs": [],
   "source": [
    "\n",
    "# t = np.arange(len(y_test_predict[4]))\n",
    "# plt.figure(figsize=(18,6))\n",
    "# plt.plot(t, y_test_true[40],\"rs-\", linewidth=1, label='Real')\n",
    "# plt.plot(t, y_test_predict[40], 'go-', linewidth=1, label='Predict')\n",
    "# plt.legend()\n",
    "# plt.show()\n"
   ]
  },
  {
   "cell_type": "code",
   "execution_count": 30,
   "metadata": {},
   "outputs": [
    {
     "data": {
      "text/plain": [
       "2700"
      ]
     },
     "execution_count": 30,
     "metadata": {},
     "output_type": "execute_result"
    }
   ],
   "source": [
    "len(y_test_predict)"
   ]
  },
  {
   "cell_type": "code",
   "execution_count": 34,
   "metadata": {},
   "outputs": [
    {
     "data": {
      "image/png": "[encoded data removed]",
      "text/plain": [
       "<Figure size 1296x432 with 1 Axes>"
      ]
     },
     "metadata": {
      "needs_background": "light"
     },
     "output_type": "display_data"
    }
   ],
   "source": [
    "for i in range(7,8):\n",
    "    t = np.arange(len(y_test_predict[i*60]))\n",
    "    plt.figure(figsize=(18,6))\n",
    "    # plt.plot(t, y_test_true[i*60],\"rs-\", linewidth=1, label='Real')\n",
    "\n",
    "    # plt.plot(t, y_test_predict[i*60], 'go-', linewidth=1, label='Predict')\n",
    "    plt.scatter(t, y_test_true[i*60], label='Real')\n",
    "    plt.scatter(t, y_test_predict[i*60], label='Predict')\n",
    "    plt.legend()\n",
    "    plt.show()"
   ]
  }
 ],
 "metadata": {
  "kernelspec": {
   "display_name": "base",
   "language": "python",
   "name": "python3"
  },
  "language_info": {
   "codemirror_mode": {
    "name": "ipython",
    "version": 3
   },
   "file_extension": ".py",
   "mimetype": "text/x-python",
   "name": "python",
   "nbconvert_exporter": "python",
   "pygments_lexer": "ipython3",
   "version": "3.7.3"
  },
  "orig_nbformat": 4,
  "vscode": {
   "interpreter": {
    "hash": "a3486b9e4963f00eda67e9fcda78cc7299f268be5e80f677cd07ccab4ca698d7"
   }
  }
 },
 "nbformat": 4,
 "nbformat_minor": 2
}
