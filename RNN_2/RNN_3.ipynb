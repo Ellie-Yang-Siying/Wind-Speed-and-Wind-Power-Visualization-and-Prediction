{
 "cells": [
  {
   "attachments": {},
   "cell_type": "markdown",
   "metadata": {},
   "source": []
  },
  {
   "cell_type": "code",
   "execution_count": 57,
   "metadata": {},
   "outputs": [],
   "source": [
    "from math import sqrt\n",
    "import numpy as np\n",
    "import pandas as pd\n",
    "\n",
    "from numpy import concatenate\n",
    "from matplotlib import pyplot as plt\n",
    "from pandas import DataFrame\n",
    "from pandas import concat\n",
    "from sklearn.preprocessing import MinMaxScaler\n",
    "from sklearn.preprocessing import LabelEncoder\n",
    "from sklearn.metrics import mean_squared_error\n",
    "from keras.models import Sequential\n",
    "from keras.layers import Dense\n",
    "from keras.layers import LSTM\n",
    "from keras.models import load_model\n",
    "# from keras.models import load_weights\n"
   ]
  },
  {
   "cell_type": "code",
   "execution_count": null,
   "metadata": {},
   "outputs": [],
   "source": []
  },
  {
   "cell_type": "code",
   "execution_count": 58,
   "metadata": {},
   "outputs": [],
   "source": [
    "# 使用前400个点的 speed & power 预测接下来 4h(4h/15min) 的power\n",
    "n_back = 400\n",
    "n_out = 16\n",
    "n_pre = n_out*15*2\n",
    "n_feature = 2\n",
    "# 使用前6天的数据进行训练\n",
    "train_len = 6\n",
    "# 神经网络参数\n",
    "units = 100\n",
    "rounds = 100\n",
    "size = 72"
   ]
  },
  {
   "cell_type": "code",
   "execution_count": 59,
   "metadata": {},
   "outputs": [
    {
     "data": {
      "text/html": [
       "<div>\n",
       "<style scoped>\n",
       "    .dataframe tbody tr th:only-of-type {\n",
       "        vertical-align: middle;\n",
       "    }\n",
       "\n",
       "    .dataframe tbody tr th {\n",
       "        vertical-align: top;\n",
       "    }\n",
       "\n",
       "    .dataframe thead th {\n",
       "        text-align: right;\n",
       "    }\n",
       "</style>\n",
       "<table border=\"1\" class=\"dataframe\">\n",
       "  <thead>\n",
       "    <tr style=\"text-align: right;\">\n",
       "      <th></th>\n",
       "      <th>power</th>\n",
       "      <th>speed</th>\n",
       "      <th>date.1</th>\n",
       "      <th>day</th>\n",
       "      <th>hour</th>\n",
       "      <th>minute</th>\n",
       "      <th>second</th>\n",
       "      <th>speed_moveavg</th>\n",
       "      <th>power_moveavg</th>\n",
       "      <th>speed_savgol_filter</th>\n",
       "      <th>power_savgol_filter</th>\n",
       "    </tr>\n",
       "    <tr>\n",
       "      <th>date</th>\n",
       "      <th></th>\n",
       "      <th></th>\n",
       "      <th></th>\n",
       "      <th></th>\n",
       "      <th></th>\n",
       "      <th></th>\n",
       "      <th></th>\n",
       "      <th></th>\n",
       "      <th></th>\n",
       "      <th></th>\n",
       "      <th></th>\n",
       "    </tr>\n",
       "  </thead>\n",
       "  <tbody>\n",
       "    <tr>\n",
       "      <th>2015-10-01 00:00:00</th>\n",
       "      <td>0.38065</td>\n",
       "      <td>0.39627</td>\n",
       "      <td>2015-10-01 00:00:00</td>\n",
       "      <td>1</td>\n",
       "      <td>0</td>\n",
       "      <td>0</td>\n",
       "      <td>0</td>\n",
       "      <td>0.39627</td>\n",
       "      <td>0.38065</td>\n",
       "      <td>0.39630</td>\n",
       "      <td>0.37963</td>\n",
       "    </tr>\n",
       "    <tr>\n",
       "      <th>2015-10-01 00:00:30</th>\n",
       "      <td>0.36943</td>\n",
       "      <td>0.39592</td>\n",
       "      <td>2015-10-01 00:00:30</td>\n",
       "      <td>1</td>\n",
       "      <td>0</td>\n",
       "      <td>0</td>\n",
       "      <td>30</td>\n",
       "      <td>0.39592</td>\n",
       "      <td>0.36943</td>\n",
       "      <td>0.39580</td>\n",
       "      <td>0.37350</td>\n",
       "    </tr>\n",
       "    <tr>\n",
       "      <th>2015-10-01 00:01:00</th>\n",
       "      <td>0.38529</td>\n",
       "      <td>0.39538</td>\n",
       "      <td>2015-10-01 00:01:00</td>\n",
       "      <td>1</td>\n",
       "      <td>0</td>\n",
       "      <td>1</td>\n",
       "      <td>0</td>\n",
       "      <td>0.39538</td>\n",
       "      <td>0.38529</td>\n",
       "      <td>0.39555</td>\n",
       "      <td>0.37919</td>\n",
       "    </tr>\n",
       "    <tr>\n",
       "      <th>2015-10-01 00:01:30</th>\n",
       "      <td>0.38892</td>\n",
       "      <td>0.39579</td>\n",
       "      <td>2015-10-01 00:01:30</td>\n",
       "      <td>1</td>\n",
       "      <td>0</td>\n",
       "      <td>1</td>\n",
       "      <td>30</td>\n",
       "      <td>0.39579</td>\n",
       "      <td>0.38892</td>\n",
       "      <td>0.39555</td>\n",
       "      <td>0.39443</td>\n",
       "    </tr>\n",
       "    <tr>\n",
       "      <th>2015-10-01 00:02:00</th>\n",
       "      <td>0.41220</td>\n",
       "      <td>0.39627</td>\n",
       "      <td>2015-10-01 00:02:00</td>\n",
       "      <td>1</td>\n",
       "      <td>0</td>\n",
       "      <td>2</td>\n",
       "      <td>0</td>\n",
       "      <td>0.39627</td>\n",
       "      <td>0.41220</td>\n",
       "      <td>0.39670</td>\n",
       "      <td>0.41116</td>\n",
       "    </tr>\n",
       "    <tr>\n",
       "      <th>...</th>\n",
       "      <td>...</td>\n",
       "      <td>...</td>\n",
       "      <td>...</td>\n",
       "      <td>...</td>\n",
       "      <td>...</td>\n",
       "      <td>...</td>\n",
       "      <td>...</td>\n",
       "      <td>...</td>\n",
       "      <td>...</td>\n",
       "      <td>...</td>\n",
       "      <td>...</td>\n",
       "    </tr>\n",
       "    <tr>\n",
       "      <th>2015-10-13 23:57:30</th>\n",
       "      <td>0.19256</td>\n",
       "      <td>0.34645</td>\n",
       "      <td>2015-10-13 23:57:30</td>\n",
       "      <td>13</td>\n",
       "      <td>23</td>\n",
       "      <td>57</td>\n",
       "      <td>30</td>\n",
       "      <td>0.34645</td>\n",
       "      <td>0.19256</td>\n",
       "      <td>0.34587</td>\n",
       "      <td>0.19193</td>\n",
       "    </tr>\n",
       "    <tr>\n",
       "      <th>2015-10-13 23:58:00</th>\n",
       "      <td>0.19485</td>\n",
       "      <td>0.34559</td>\n",
       "      <td>2015-10-13 23:58:00</td>\n",
       "      <td>13</td>\n",
       "      <td>23</td>\n",
       "      <td>58</td>\n",
       "      <td>0</td>\n",
       "      <td>0.34559</td>\n",
       "      <td>0.19485</td>\n",
       "      <td>0.34594</td>\n",
       "      <td>0.19456</td>\n",
       "    </tr>\n",
       "    <tr>\n",
       "      <th>2015-10-13 23:58:30</th>\n",
       "      <td>0.19554</td>\n",
       "      <td>0.34562</td>\n",
       "      <td>2015-10-13 23:58:30</td>\n",
       "      <td>13</td>\n",
       "      <td>23</td>\n",
       "      <td>58</td>\n",
       "      <td>30</td>\n",
       "      <td>0.34562</td>\n",
       "      <td>0.19554</td>\n",
       "      <td>0.34539</td>\n",
       "      <td>0.19412</td>\n",
       "    </tr>\n",
       "    <tr>\n",
       "      <th>2015-10-13 23:59:00</th>\n",
       "      <td>0.19210</td>\n",
       "      <td>0.34533</td>\n",
       "      <td>2015-10-13 23:59:00</td>\n",
       "      <td>13</td>\n",
       "      <td>23</td>\n",
       "      <td>59</td>\n",
       "      <td>0</td>\n",
       "      <td>0.34533</td>\n",
       "      <td>0.19210</td>\n",
       "      <td>0.34593</td>\n",
       "      <td>0.19476</td>\n",
       "    </tr>\n",
       "    <tr>\n",
       "      <th>2015-10-13 23:59:30</th>\n",
       "      <td>0.19857</td>\n",
       "      <td>0.34623</td>\n",
       "      <td>2015-10-13 23:59:30</td>\n",
       "      <td>13</td>\n",
       "      <td>23</td>\n",
       "      <td>59</td>\n",
       "      <td>30</td>\n",
       "      <td>0.34623</td>\n",
       "      <td>0.19857</td>\n",
       "      <td>0.34504</td>\n",
       "      <td>0.19750</td>\n",
       "    </tr>\n",
       "  </tbody>\n",
       "</table>\n",
       "<p>37440 rows × 11 columns</p>\n",
       "</div>"
      ],
      "text/plain": [
       "                       power    speed               date.1  day  hour  minute  \\\n",
       "date                                                                            \n",
       "2015-10-01 00:00:00  0.38065  0.39627  2015-10-01 00:00:00    1     0       0   \n",
       "2015-10-01 00:00:30  0.36943  0.39592  2015-10-01 00:00:30    1     0       0   \n",
       "2015-10-01 00:01:00  0.38529  0.39538  2015-10-01 00:01:00    1     0       1   \n",
       "2015-10-01 00:01:30  0.38892  0.39579  2015-10-01 00:01:30    1     0       1   \n",
       "2015-10-01 00:02:00  0.41220  0.39627  2015-10-01 00:02:00    1     0       2   \n",
       "...                      ...      ...                  ...  ...   ...     ...   \n",
       "2015-10-13 23:57:30  0.19256  0.34645  2015-10-13 23:57:30   13    23      57   \n",
       "2015-10-13 23:58:00  0.19485  0.34559  2015-10-13 23:58:00   13    23      58   \n",
       "2015-10-13 23:58:30  0.19554  0.34562  2015-10-13 23:58:30   13    23      58   \n",
       "2015-10-13 23:59:00  0.19210  0.34533  2015-10-13 23:59:00   13    23      59   \n",
       "2015-10-13 23:59:30  0.19857  0.34623  2015-10-13 23:59:30   13    23      59   \n",
       "\n",
       "                     second  speed_moveavg  power_moveavg  \\\n",
       "date                                                        \n",
       "2015-10-01 00:00:00       0        0.39627        0.38065   \n",
       "2015-10-01 00:00:30      30        0.39592        0.36943   \n",
       "2015-10-01 00:01:00       0        0.39538        0.38529   \n",
       "2015-10-01 00:01:30      30        0.39579        0.38892   \n",
       "2015-10-01 00:02:00       0        0.39627        0.41220   \n",
       "...                     ...            ...            ...   \n",
       "2015-10-13 23:57:30      30        0.34645        0.19256   \n",
       "2015-10-13 23:58:00       0        0.34559        0.19485   \n",
       "2015-10-13 23:58:30      30        0.34562        0.19554   \n",
       "2015-10-13 23:59:00       0        0.34533        0.19210   \n",
       "2015-10-13 23:59:30      30        0.34623        0.19857   \n",
       "\n",
       "                     speed_savgol_filter  power_savgol_filter  \n",
       "date                                                           \n",
       "2015-10-01 00:00:00              0.39630              0.37963  \n",
       "2015-10-01 00:00:30              0.39580              0.37350  \n",
       "2015-10-01 00:01:00              0.39555              0.37919  \n",
       "2015-10-01 00:01:30              0.39555              0.39443  \n",
       "2015-10-01 00:02:00              0.39670              0.41116  \n",
       "...                                  ...                  ...  \n",
       "2015-10-13 23:57:30              0.34587              0.19193  \n",
       "2015-10-13 23:58:00              0.34594              0.19456  \n",
       "2015-10-13 23:58:30              0.34539              0.19412  \n",
       "2015-10-13 23:59:00              0.34593              0.19476  \n",
       "2015-10-13 23:59:30              0.34504              0.19750  \n",
       "\n",
       "[37440 rows x 11 columns]"
      ]
     },
     "execution_count": 59,
     "metadata": {},
     "output_type": "execute_result"
    }
   ],
   "source": [
    "dataset = pd.read_csv(\"C:/Users/24496/Desktop/BigData/wind_preprocessed.csv\", header=0, index_col=0).query('day<14')\n",
    "dataset"
   ]
  },
  {
   "cell_type": "code",
   "execution_count": 60,
   "metadata": {},
   "outputs": [
    {
     "name": "stdout",
     "output_type": "stream",
     "text": [
      "                       speed    power\n",
      "date                                 \n",
      "2015-10-01 00:00:00  0.39627  0.38065\n",
      "2015-10-01 00:00:30  0.39592  0.36943\n",
      "2015-10-01 00:01:00  0.39538  0.38529\n",
      "2015-10-01 00:01:30  0.39579  0.38892\n",
      "2015-10-01 00:02:00  0.39627  0.41220\n"
     ]
    }
   ],
   "source": [
    "data = dataset[['speed_moveavg', 'power_moveavg']].rename(columns={'power_moveavg':'power', 'speed_moveavg':'speed'})\n",
    "print(data.head())"
   ]
  },
  {
   "cell_type": "code",
   "execution_count": 61,
   "metadata": {},
   "outputs": [],
   "source": [
    "values = data.values\n",
    "values = values.astype('float32')\n",
    "\n",
    "def series_to_supervised(data, n_in, n_out, colname, dropnan=True):\n",
    "    n_vars = colname\n",
    "    # n_vars = 1 if type(data) is list else data.shape[1]\n",
    "    df = DataFrame(data)\n",
    "    cols, names = list(), list()\n",
    "    # input sequence (t-n, ... t-1)\n",
    "    for i in range(n_in, 0, -1):\n",
    "        cols.append(df.shift(i))\n",
    "        names += [('%s(t-%d)' % (j, i)) for j in n_vars]\n",
    "    # forecast sequence (t, t+1, ... t+n)\n",
    "    for i in range(0, n_out, 15*2):\n",
    "        cols.append(df.shift(-i))\n",
    "        if i == 0:\n",
    "            names += [('%s(t)' % (j)) for j in n_vars]\n",
    "        else:\n",
    "            names += [('%s(t+%d)' % (j, i)) for j in n_vars]\n",
    "    # put it all together\n",
    "    agg = concat(cols, axis=1)\n",
    "    agg.columns = names\n",
    "    # drop rows with NaN values\n",
    "    if dropnan:\n",
    "        agg.dropna(inplace=True)\n",
    "    return agg\n",
    "\n",
    "# 构建成监督学习问题\n",
    "reframed = series_to_supervised(values, n_back, n_pre, ['speed', 'power'])\n",
    "# 丢弃我们不想预测的列\n",
    "for i in range(0, n_pre, 15*2):\n",
    "    if i == 0:\n",
    "        colname = 'speed(t)'\n",
    "    else:\n",
    "        colname = f'speed(t+{i})'\n",
    "    reframed.drop(colname, axis=1, inplace=True)\n",
    "# print(reframed.head(5))"
   ]
  },
  {
   "cell_type": "code",
   "execution_count": 62,
   "metadata": {},
   "outputs": [
    {
     "name": "stdout",
     "output_type": "stream",
     "text": [
      "-------------------\n",
      "-------------------\n",
      "[[0.39627 0.38065 0.39592 ... 0.17696 0.32378 0.17333]\n",
      " [0.39592 0.36943 0.39538 ... 0.17333 0.3229  0.17272]\n",
      " [0.39538 0.38529 0.39579 ... 0.17272 0.32304 0.18162]\n",
      " ...\n",
      " [0.26301 0.08854 0.25858 ... 0.07717 0.2549  0.08217]\n",
      " [0.25858 0.08421 0.25952 ... 0.08217 0.25472 0.08103]\n",
      " [0.25952 0.08376 0.25713 ... 0.08103 0.2549  0.07712]]\n"
     ]
    }
   ],
   "source": [
    "# 分割为训练集和测试集\n",
    "values = reframed.values\n",
    "n_train_hours = train_len*24*60*2\n",
    "train = values[:n_train_hours, :]\n",
    "# print(train)\n",
    "test = values[n_train_hours:, :]\n",
    "# 分为输入输出\n",
    "n_obs = n_back * n_feature\n",
    "train_X, train_y = train[:, :n_obs], train[:, -n_out:]\n",
    "print('-------------------')\n",
    "# print(train_X[0])\n",
    "print('-------------------')\n",
    "# print(train_y[0])\n",
    "\n",
    "# print(train_X.shape[0])\n",
    "test_X, test_y = test[:, :n_obs], test[:, -n_out:]\n",
    "# print(train_X.shape, train_y.shape)\n",
    "# print(test_X.shape, test_y.shape)\n",
    "# 重塑成3D格式 [samples, timesteps, features]\n",
    "print(train_X)\n",
    "# print(n_back)\n",
    "# print()\n",
    "# train_X = train_X.reshape((train_X.shape[0], n_back, n_feature))\n",
    "# print(train_X)\n",
    "# test_X = test_X.reshape((test_X.shape[0], n_back, n_feature))\n",
    "# print(train_X.shape, train_y.shape, test_X.shape, test_y.shape)\n",
    "# train_X.shape[1]"
   ]
  },
  {
   "cell_type": "code",
   "execution_count": 63,
   "metadata": {},
   "outputs": [],
   "source": [
    "from keras.models import Sequential\n",
    "from keras.layers import Dense\n",
    "from keras.layers import SimpleRNN,LSTM\n"
   ]
  },
  {
   "cell_type": "code",
   "execution_count": 64,
   "metadata": {},
   "outputs": [],
   "source": [
    "# # 初始化顺序模型\n",
    "# regressor = Sequential()\n",
    " \n",
    "# # 定义输入层及带5个神经元的隐藏层\n",
    "# regressor.add(SimpleRNN(units = 15, input_shape = (train_X.shape[1], 1)))\n",
    "# # 定义线性的输出层\n",
    "# regressor.add(Dense(units = 16))\n",
    "# # 模型编译：定义优化算法adam， 目标函数均方根MSE\n",
    "# regressor.compile(optimizer = 'adam', loss = 'mean_squared_error')\n",
    "# # 模型训练\n",
    "# history = regressor.fit(train_X, train_y, epochs = 80, batch_size = 250, validation_split=0.3)\n",
    "\n",
    "# # regressor.summary()"
   ]
  },
  {
   "cell_type": "code",
   "execution_count": 65,
   "metadata": {},
   "outputs": [],
   "source": [
    "# regressor.save_weights('RNN_1.h5')\\\\\n",
    "regressor = Sequential()\n",
    "# regressor.build(input_shape = (train_X.shape[1], 1))\n",
    "# 初始化顺序模型\n",
    "# regressor = Sequential()\n",
    " \n",
    "# 定义输入层及带5个神经元的隐藏层\n",
    "regressor.add(SimpleRNN(units = 15, input_shape = (train_X.shape[1], 1)))\n",
    "# 定义线性的输出层\n",
    "regressor.add(Dense(units = 16))\n",
    "regressor.load_weights(\"C:/Users/24496/Desktop/BigData/RNN_1.h5\") "
   ]
  },
  {
   "cell_type": "code",
   "execution_count": 66,
   "metadata": {},
   "outputs": [],
   "source": [
    "# # 绘制历史数据\n",
    "# plt.plot(history.history['loss'], label='train')\n",
    "# plt.plot(history.history['val_loss'], label='test')\n",
    "# # plt.title(f'Epochs={epoch_num}, Batch_size={batch_size},Ahead=400')\n",
    "# # plt.savefig(f'compare/{n}.png')\n",
    "# plt.legend()\n",
    "# plt.show()\n"
   ]
  },
  {
   "cell_type": "code",
   "execution_count": 67,
   "metadata": {},
   "outputs": [],
   "source": [
    "# plt.plot(history.history['loss'],c='blue')    # 蓝色线训练集损失\n",
    "# plt.plot(history.history['val_loss'],c='red') # 红色线验证集损失\n",
    "# plt.show()"
   ]
  },
  {
   "cell_type": "code",
   "execution_count": 68,
   "metadata": {},
   "outputs": [
    {
     "data": {
      "text/html": [
       "<div>\n",
       "<style scoped>\n",
       "    .dataframe tbody tr th:only-of-type {\n",
       "        vertical-align: middle;\n",
       "    }\n",
       "\n",
       "    .dataframe tbody tr th {\n",
       "        vertical-align: top;\n",
       "    }\n",
       "\n",
       "    .dataframe thead th {\n",
       "        text-align: right;\n",
       "    }\n",
       "</style>\n",
       "<table border=\"1\" class=\"dataframe\">\n",
       "  <thead>\n",
       "    <tr style=\"text-align: right;\">\n",
       "      <th></th>\n",
       "      <th>speed</th>\n",
       "      <th>power</th>\n",
       "    </tr>\n",
       "    <tr>\n",
       "      <th>date</th>\n",
       "      <th></th>\n",
       "      <th></th>\n",
       "    </tr>\n",
       "  </thead>\n",
       "  <tbody>\n",
       "    <tr>\n",
       "      <th>2015-10-02 00:00:00</th>\n",
       "      <td>0.18371</td>\n",
       "      <td>0.00915</td>\n",
       "    </tr>\n",
       "    <tr>\n",
       "      <th>2015-10-02 00:00:30</th>\n",
       "      <td>0.18257</td>\n",
       "      <td>0.00864</td>\n",
       "    </tr>\n",
       "    <tr>\n",
       "      <th>2015-10-02 00:01:00</th>\n",
       "      <td>0.18162</td>\n",
       "      <td>0.00627</td>\n",
       "    </tr>\n",
       "    <tr>\n",
       "      <th>2015-10-02 00:01:30</th>\n",
       "      <td>0.18062</td>\n",
       "      <td>0.00664</td>\n",
       "    </tr>\n",
       "    <tr>\n",
       "      <th>2015-10-02 00:02:00</th>\n",
       "      <td>0.17980</td>\n",
       "      <td>0.00648</td>\n",
       "    </tr>\n",
       "    <tr>\n",
       "      <th>...</th>\n",
       "      <td>...</td>\n",
       "      <td>...</td>\n",
       "    </tr>\n",
       "    <tr>\n",
       "      <th>2015-10-02 23:57:30</th>\n",
       "      <td>0.33787</td>\n",
       "      <td>0.22594</td>\n",
       "    </tr>\n",
       "    <tr>\n",
       "      <th>2015-10-02 23:58:00</th>\n",
       "      <td>0.33951</td>\n",
       "      <td>0.22907</td>\n",
       "    </tr>\n",
       "    <tr>\n",
       "      <th>2015-10-02 23:58:30</th>\n",
       "      <td>0.33987</td>\n",
       "      <td>0.23524</td>\n",
       "    </tr>\n",
       "    <tr>\n",
       "      <th>2015-10-02 23:59:00</th>\n",
       "      <td>0.34125</td>\n",
       "      <td>0.24595</td>\n",
       "    </tr>\n",
       "    <tr>\n",
       "      <th>2015-10-02 23:59:30</th>\n",
       "      <td>0.34324</td>\n",
       "      <td>0.25806</td>\n",
       "    </tr>\n",
       "  </tbody>\n",
       "</table>\n",
       "<p>2880 rows × 2 columns</p>\n",
       "</div>"
      ],
      "text/plain": [
       "                       speed    power\n",
       "date                                 \n",
       "2015-10-02 00:00:00  0.18371  0.00915\n",
       "2015-10-02 00:00:30  0.18257  0.00864\n",
       "2015-10-02 00:01:00  0.18162  0.00627\n",
       "2015-10-02 00:01:30  0.18062  0.00664\n",
       "2015-10-02 00:02:00  0.17980  0.00648\n",
       "...                      ...      ...\n",
       "2015-10-02 23:57:30  0.33787  0.22594\n",
       "2015-10-02 23:58:00  0.33951  0.22907\n",
       "2015-10-02 23:58:30  0.33987  0.23524\n",
       "2015-10-02 23:59:00  0.34125  0.24595\n",
       "2015-10-02 23:59:30  0.34324  0.25806\n",
       "\n",
       "[2880 rows x 2 columns]"
      ]
     },
     "execution_count": 68,
     "metadata": {},
     "output_type": "execute_result"
    }
   ],
   "source": [
    "#使用第12天的数据做预测验证\n",
    "df_test = data.iloc[1*2880:2*2880]\n",
    "df_test\n",
    "# df_test.isnull().values.any()"
   ]
  },
  {
   "cell_type": "code",
   "execution_count": 69,
   "metadata": {},
   "outputs": [
    {
     "data": {
      "text/html": [
       "<div>\n",
       "<style scoped>\n",
       "    .dataframe tbody tr th:only-of-type {\n",
       "        vertical-align: middle;\n",
       "    }\n",
       "\n",
       "    .dataframe tbody tr th {\n",
       "        vertical-align: top;\n",
       "    }\n",
       "\n",
       "    .dataframe thead th {\n",
       "        text-align: right;\n",
       "    }\n",
       "</style>\n",
       "<table border=\"1\" class=\"dataframe\">\n",
       "  <thead>\n",
       "    <tr style=\"text-align: right;\">\n",
       "      <th></th>\n",
       "      <th>power</th>\n",
       "      <th>speed</th>\n",
       "    </tr>\n",
       "    <tr>\n",
       "      <th>date</th>\n",
       "      <th></th>\n",
       "      <th></th>\n",
       "    </tr>\n",
       "  </thead>\n",
       "  <tbody>\n",
       "    <tr>\n",
       "      <th>2015-10-02 00:00:00</th>\n",
       "      <td>0.00915</td>\n",
       "      <td>0.18371</td>\n",
       "    </tr>\n",
       "    <tr>\n",
       "      <th>2015-10-02 00:00:30</th>\n",
       "      <td>0.00864</td>\n",
       "      <td>0.18257</td>\n",
       "    </tr>\n",
       "    <tr>\n",
       "      <th>2015-10-02 00:01:00</th>\n",
       "      <td>0.00627</td>\n",
       "      <td>0.18162</td>\n",
       "    </tr>\n",
       "    <tr>\n",
       "      <th>2015-10-02 00:01:30</th>\n",
       "      <td>0.00664</td>\n",
       "      <td>0.18062</td>\n",
       "    </tr>\n",
       "    <tr>\n",
       "      <th>2015-10-02 00:02:00</th>\n",
       "      <td>0.00648</td>\n",
       "      <td>0.17980</td>\n",
       "    </tr>\n",
       "    <tr>\n",
       "      <th>...</th>\n",
       "      <td>...</td>\n",
       "      <td>...</td>\n",
       "    </tr>\n",
       "    <tr>\n",
       "      <th>2015-10-02 23:57:30</th>\n",
       "      <td>0.22594</td>\n",
       "      <td>0.33787</td>\n",
       "    </tr>\n",
       "    <tr>\n",
       "      <th>2015-10-02 23:58:00</th>\n",
       "      <td>0.22907</td>\n",
       "      <td>0.33951</td>\n",
       "    </tr>\n",
       "    <tr>\n",
       "      <th>2015-10-02 23:58:30</th>\n",
       "      <td>0.23524</td>\n",
       "      <td>0.33987</td>\n",
       "    </tr>\n",
       "    <tr>\n",
       "      <th>2015-10-02 23:59:00</th>\n",
       "      <td>0.24595</td>\n",
       "      <td>0.34125</td>\n",
       "    </tr>\n",
       "    <tr>\n",
       "      <th>2015-10-02 23:59:30</th>\n",
       "      <td>0.25806</td>\n",
       "      <td>0.34324</td>\n",
       "    </tr>\n",
       "  </tbody>\n",
       "</table>\n",
       "<p>2880 rows × 2 columns</p>\n",
       "</div>"
      ],
      "text/plain": [
       "                       power    speed\n",
       "date                                 \n",
       "2015-10-02 00:00:00  0.00915  0.18371\n",
       "2015-10-02 00:00:30  0.00864  0.18257\n",
       "2015-10-02 00:01:00  0.00627  0.18162\n",
       "2015-10-02 00:01:30  0.00664  0.18062\n",
       "2015-10-02 00:02:00  0.00648  0.17980\n",
       "...                      ...      ...\n",
       "2015-10-02 23:57:30  0.22594  0.33787\n",
       "2015-10-02 23:58:00  0.22907  0.33951\n",
       "2015-10-02 23:58:30  0.23524  0.33987\n",
       "2015-10-02 23:59:00  0.24595  0.34125\n",
       "2015-10-02 23:59:30  0.25806  0.34324\n",
       "\n",
       "[2880 rows x 2 columns]"
      ]
     },
     "execution_count": 69,
     "metadata": {},
     "output_type": "execute_result"
    }
   ],
   "source": [
    "df_test_only_power = df_test[['power','speed']]\n",
    "df_test_only_power"
   ]
  },
  {
   "cell_type": "code",
   "execution_count": 70,
   "metadata": {},
   "outputs": [],
   "source": [
    "values = data.values\n",
    "values = values.astype('float32')\n",
    "\n",
    "def series_to_supervised(data, n_in, n_out, colname, dropnan=True):\n",
    "    n_vars = colname\n",
    "    # n_vars = 1 if type(data) is list else data.shape[1]\n",
    "    df = DataFrame(data)\n",
    "    cols, names = list(), list()\n",
    "    # input sequence (t-n, ... t-1)\n",
    "    for i in range(n_in, 0, -1):\n",
    "        cols.append(df.shift(i))\n",
    "        names += [('%s(t-%d)' % (j, i)) for j in n_vars]\n",
    "    # forecast sequence (t, t+1, ... t+n)\n",
    "    for i in range(0, n_out, 15*2):\n",
    "        cols.append(df.shift(-i))\n",
    "        if i == 0:\n",
    "            names += [('%s(t)' % (j)) for j in n_vars]\n",
    "        else:\n",
    "            names += [('%s(t+%d)' % (j, i)) for j in n_vars]\n",
    "    # put it all together\n",
    "    agg = concat(cols, axis=1)\n",
    "    agg.columns = names\n",
    "    # drop rows with NaN values\n",
    "    if dropnan:\n",
    "        agg.dropna(inplace=True)\n",
    "    return agg\n",
    "\n",
    "# 构建成监督学习问题\n",
    "reframed = series_to_supervised(values, n_back, n_pre, ['speed', 'power'])\n",
    "# 丢弃我们不想预测的列\n",
    "for i in range(0, n_pre, 15*2):\n",
    "    if i == 0:\n",
    "        colname = 'speed(t)'\n",
    "    else:\n",
    "        colname = f'speed(t+{i})'\n",
    "    reframed.drop(colname, axis=1, inplace=True)\n",
    "# print(reframed.head(5))"
   ]
  },
  {
   "cell_type": "code",
   "execution_count": 71,
   "metadata": {},
   "outputs": [],
   "source": [
    "# 分割为训练集和测试集\n",
    "values = reframed.values\n",
    "# n_train_hours = train_len*24*60*2\n",
    "# train = values\n",
    "# print(train)\n",
    "# test = values[n_train_hours:, :]\n",
    "# 分为输入输出\n",
    "n_obs = n_back * n_feature\n",
    "real_X, real_y = values[:, :n_obs], values[:, -n_out:]\n",
    "# print('-------------------')\n",
    "# # print(train_X[0])\n",
    "# print('-------------------')\n",
    "# # print(train_y[0])\n",
    "\n",
    "# # print(train_X.shape[0])\n",
    "# # test_X, test_y = test[:, :n_obs], test[:, -n_out:]\n",
    "# # print(train_X.shape, train_y.shape)\n",
    "# # print(test_X.shape, test_y.shape)\n",
    "# # 重塑成3D格式 [samples, timesteps, features]\n",
    "# print(train_X)\n",
    "# print(n_back)\n",
    "# print()\n",
    "# train_X = train_X.reshape((train_X.shape[0], n_back, n_feature))\n",
    "# print(train_X)\n",
    "# test_X = test_X.reshape((test_X.shape[0], n_back, n_feature))\n",
    "# print(train_X.shape, train_y.shape, test_X.shape, test_y.shape)\n",
    "# train_X.shape[1]"
   ]
  },
  {
   "cell_type": "code",
   "execution_count": 72,
   "metadata": {},
   "outputs": [
    {
     "name": "stdout",
     "output_type": "stream",
     "text": [
      "1144/1144 [==============================] - 29s 25ms/step\n"
     ]
    }
   ],
   "source": [
    "y_test_predict=regressor.predict(real_X)\n",
    "#模型评估\n",
    "# print('预测与实际差异MSE:',(sum(pow((y_test_predict - real_y),2))/y_test_predict.shape[0])**0.5)\n",
    "\n"
   ]
  },
  {
   "cell_type": "code",
   "execution_count": 73,
   "metadata": {},
   "outputs": [
    {
     "data": {
      "text/plain": [
       "36590"
      ]
     },
     "execution_count": 73,
     "metadata": {},
     "output_type": "execute_result"
    }
   ],
   "source": [
    "len(real_X)\n",
    "len(real_y)\n",
    "len(y_test_predict)"
   ]
  },
  {
   "cell_type": "code",
   "execution_count": 98,
   "metadata": {},
   "outputs": [
    {
     "name": "stdout",
     "output_type": "stream",
     "text": [
      "avgacc 86.9193583726883\n",
      "预测与实际差异RMSE: [0.03191519 0.0457627  0.06905344 0.08008228 0.09049145 0.1032214\n",
      " 0.11682776 0.12500787 0.13772017 0.15043877 0.16572912 0.17068543\n",
      " 0.18401201 0.19754884 0.21008703 0.21431915]\n"
     ]
    },
    {
     "data": {
      "image/png": "[encoded data removed]",
      "text/plain": [
       "<Figure size 432x288 with 1 Axes>"
      ]
     },
     "metadata": {
      "needs_background": "light"
     },
     "output_type": "display_data"
    },
    {
     "data": {
      "image/png": "[encoded data removed]",
      "text/plain": [
       "<Figure size 432x288 with 1 Axes>"
      ]
     },
     "metadata": {
      "needs_background": "light"
     },
     "output_type": "display_data"
    }
   ],
   "source": [
    "#模型评估\n",
    "a = (sum(pow((y_test_predict - real_y),2))/y_test_predict.shape[0])**0.5\n",
    "print('avgacc',(1-np.mean(a))*100)\n",
    "print('预测与实际差异RMSE:',a)\n",
    "t = np.arange(len(a))\n",
    "# plt.figure(figsize=(18,6))\n",
    "plt.scatter(t,a,color = 'r')\n",
    "plt.plot(t, a,\"-\",color='r', linewidth=1)\n",
    "plt.ylabel('Rmse')\n",
    "\n",
    "# plt.plot(t, y_test_predict[40], 'go-', linewidth=1, label='Predict')\n",
    "# plt.legend()\n",
    "plt.show()\n",
    "tt = [1,1,1,1,1,1,1,1,1,1,1,1,1,1,1,1,]\n",
    "acc = (tt - a)*100\n",
    "acc\n",
    "plt.scatter(t,acc)\n",
    "plt.plot(t, acc,\"-\", linewidth=1)\n",
    "plt.ylabel('Accuracy(%)')\n",
    "# plt.legend()\n",
    "plt.show()\n",
    "# print('预测与实际差异RMSE:',(sum(pow((y_test_predict - real_y),2))/y_test_predict.shape[0])**0.5)"
   ]
  },
  {
   "cell_type": "code",
   "execution_count": 75,
   "metadata": {},
   "outputs": [
    {
     "data": {
      "image/png": "[encoded data removed]",
      "text/plain": [
       "<Figure size 1296x432 with 1 Axes>"
      ]
     },
     "metadata": {
      "needs_background": "light"
     },
     "output_type": "display_data"
    }
   ],
   "source": [
    "t = np.arange(len(y_test_predict[4]))\n",
    "plt.figure(figsize=(18,6))\n",
    "plt.plot(t, train_y[40],\"rs-\", linewidth=1, label='Real')\n",
    "plt.plot(t, y_test_predict[40], 'go-', linewidth=1, label='Predict')\n",
    "plt.legend()\n",
    "plt.show()\n"
   ]
  },
  {
   "cell_type": "code",
   "execution_count": 96,
   "metadata": {},
   "outputs": [
    {
     "data": {
      "image/png": "[encoded data removed]",
      "text/plain": [
       "<Figure size 1296x432 with 1 Axes>"
      ]
     },
     "metadata": {
      "needs_background": "light"
     },
     "output_type": "display_data"
    },
    {
     "data": {
      "image/png": "[encoded data removed]",
      "text/plain": [
       "<Figure size 1296x432 with 1 Axes>"
      ]
     },
     "metadata": {
      "needs_background": "light"
     },
     "output_type": "display_data"
    },
    {
     "data": {
      "image/png": "[encoded data removed]",
      "text/plain": [
       "<Figure size 1296x432 with 1 Axes>"
      ]
     },
     "metadata": {
      "needs_background": "light"
     },
     "output_type": "display_data"
    },
    {
     "data": {
      "image/png": "[encoded data removed]",
      "text/plain": [
       "<Figure size 1296x432 with 1 Axes>"
      ]
     },
     "metadata": {
      "needs_background": "light"
     },
     "output_type": "display_data"
    },
    {
     "data": {
      "image/png": "[encoded data removed]",
      "text/plain": [
       "<Figure size 1296x432 with 1 Axes>"
      ]
     },
     "metadata": {
      "needs_background": "light"
     },
     "output_type": "display_data"
    },
    {
     "data": {
      "image/png": "[encoded data removed]",
      "text/plain": [
       "<Figure size 1296x432 with 1 Axes>"
      ]
     },
     "metadata": {
      "needs_background": "light"
     },
     "output_type": "display_data"
    },
    {
     "data": {
      "image/png": "[encoded data removed]",
      "text/plain": [
       "<Figure size 1296x432 with 1 Axes>"
      ]
     },
     "metadata": {
      "needs_background": "light"
     },
     "output_type": "display_data"
    },
    {
     "data": {
      "image/png": "[encoded data removed]",
      "text/plain": [
       "<Figure size 1296x432 with 1 Axes>"
      ]
     },
     "metadata": {
      "needs_background": "light"
     },
     "output_type": "display_data"
    },
    {
     "data": {
      "image/png": "[encoded data removed]",
      "text/plain": [
       "<Figure size 1296x432 with 1 Axes>"
      ]
     },
     "metadata": {
      "needs_background": "light"
     },
     "output_type": "display_data"
    },
    {
     "data": {
      "image/png": "[encoded data removed]",
      "text/plain": [
       "<Figure size 1296x432 with 1 Axes>"
      ]
     },
     "metadata": {
      "needs_background": "light"
     },
     "output_type": "display_data"
    }
   ],
   "source": [
    "for i in range(20,30):\n",
    "    t = np.arange(len(y_test_predict[i*16]))\n",
    "    plt.figure(figsize=(18,6))\n",
    "    # plt.plot(t, real_y[i*16],\"rs-\", linewidth=1, label='Real')\n",
    "    plt.scatter(t, real_y[i*16], label='Real')\n",
    "    plt.scatter(t, y_test_predict[i*16], label='Predict')\n",
    "    # plt.plot(t, y_test_predict[i*16], 'go-', linewidth=1, label='Predict')\n",
    "    plt.legend()\n",
    "    plt.show()"
   ]
  }
 ],
 "metadata": {
  "kernelspec": {
   "display_name": "base",
   "language": "python",
   "name": "python3"
  },
  "language_info": {
   "codemirror_mode": {
    "name": "ipython",
    "version": 3
   },
   "file_extension": ".py",
   "mimetype": "text/x-python",
   "name": "python",
   "nbconvert_exporter": "python",
   "pygments_lexer": "ipython3",
   "version": "3.7.3"
  },
  "orig_nbformat": 4,
  "vscode": {
   "interpreter": {
    "hash": "a3486b9e4963f00eda67e9fcda78cc7299f268be5e80f677cd07ccab4ca698d7"
   }
  }
 },
 "nbformat": 4,
 "nbformat_minor": 2
}
